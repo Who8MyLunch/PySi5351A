{
 "cells": [
  {
   "cell_type": "markdown",
   "metadata": {},
   "source": [
    "# Configuration Notes\n",
    "\n",
    "Configuring device consists of four stages as shown in figure below, plus an initial set of reset instructions.\n",
    "\n",
    "![hello](../doc/diagram.png)"
   ]
  },
  {
   "cell_type": "markdown",
   "metadata": {},
   "source": [
    "# Config Notes\n",
    "\n",
    "Variable $x$ refers to PLLs A or B.\n",
    "\n",
    "Variable $y$ refers to CLKs 0 through 7.\n",
    "\n",
    "## Input Stage\n",
    "\n",
    "**Registers**: XTAL_CL, CLKIN_DIV\n",
    "    \n",
    "Input frequency: $f_{IN}$ determined by input source selected from one of CLKIN, XTAL, or VC.\n",
    "\n"
   ]
  },
  {
   "cell_type": "markdown",
   "metadata": {},
   "source": [
    "## Synthesis Stage 1 (PLL)\n",
    "\n",
    "**Registers**:\n",
    "- $M_{PLL}$: MSNx_P1 (18 bits), MSNx_P2 (20 bits), MSNx_P3 (20 bits)\n",
    "- FBx_INT\n",
    "\n",
    "\n",
    "Generate PLL intermediate frequency.  Many documents refer to this signal as $f_{VCO}$, but I'm calling it $f_{PLLx}$.  Phase control is performed later in units of one fourth the period of this signal.  If I want high phase resolution, I should force this intermediate frequency as high as possible.\n",
    " \n",
    "$f_{PLL} = f_{XTAL} \\times M_{PLL}$\n",
    "\n",
    "where\n",
    "\n",
    "$M_{PLL} = a + \\frac{b}{c}$ and must be in the range 15 - 90.\n",
    "\n",
    "**How**: Given $f_{XTAL}$ and desired PLL frequency $f_{PLLx}$, start things off by computing $M_{PLL} \\approx \\frac{f_{PLLx}}{f_{XTAL}}$.  See below for a, b, and c parameters for encoding this number.\n",
    "\n",
    "Valid $M_{PLL}$ ratios are 4, 6, 8, and any fractional value between (15 + 0/1,048,575) and (90 + 0/1,048,575).\n",
    "\n",
    "If $M_{PLL}$ is an even integer then also set FBx_INT to 1 for reduced phase noise."
   ]
  },
  {
   "cell_type": "markdown",
   "metadata": {},
   "source": [
    "## Synthesis Stage 2 (MS)\n",
    "\n",
    "**Registers**:\n",
    "- MS?\n",
    "\n",
    "Generate MultiSynth clock frequencies in the range 500 kHz and 150 MHz.\n",
    "\n",
    "$f_{MSy} = f_{XTAL} \\times \\frac{M_{PLL}}{M_{MS}}$\n",
    "\n",
    "where\n",
    "\n",
    "$M_{MS} = p + \\frac{q}{r}$ and must be in the range 6 - 1800.\n",
    "\n",
    "Notes:\n",
    "- MS6 and MS7 do not have parameters $q$ and $r$.\n",
    "- CLK6 and CLK7 MultiSynth divide ratios $M_{MS,6}$ and $M_{MS,7}$ are restricted to even integer in the range 6 to 254.\n",
    "\n",
    "\n",
    "Registers: MSx_P1 (18 bits), MSx_P2 (20 bits), MSx_P3 (20 bits)\n",
    "\n"
   ]
  },
  {
   "cell_type": "markdown",
   "metadata": {},
   "source": [
    "## Output Stage\n",
    "\n",
    "Final divider $R_y$ is a power of 2: 1, 2, 4, 8, ..., 128.\n",
    "\n",
    "$f_{CLKy} = f_{MS,y}\\times \\frac{1}{R_y} = f_{XTAL} \\times \\frac{M_{PLL}}{M_{MS} \\times R_{y}}$\n",
    "\n",
    "For now I'm going to ignore $R_y$ and assume it's set to unity.\n",
    "\n",
    "$f_{CLKy} = f_{XTAL} \\times \\frac{M_{PLL}}{M_{MS} }$\n",
    "\n",
    "Both $M_{PLL}$ and $M_{MS}$ and are computed from an expression of the form $a + \\frac{b}{c}$, which allows for a ratio of floats for great flexibility in choosing an output frequency, at the expense of potential jitter or phase noise.\n",
    "\n",
    "If I wish to minimize phase noise then I should attempt to set $b=0$ and $c=1$, leaving only $a$ as a variable.  This ultimately means $M_{PLL}$ and $M_{MS}$ are each integers and I'm left with computing their ratio in order to set my output frequency."
   ]
  },
  {
   "cell_type": "markdown",
   "metadata": {},
   "source": [
    "# Multiplier Encoding\n",
    "\n",
    "Frequency multiplier/dividers $M_{PLL}$ and $M_{MS}$ are each encoded using the following scheme:\n",
    "\n",
    "$P_1 = 128 \\times a + Floor\\left(128 \\times \\frac{b}{c}\\right) - 512$\n",
    "\n",
    "$P_2 = 128 \\times b - c \\times Floor\\left(128 \\times \\frac{b}{c}\\right)$\n",
    "\n",
    "$P_3 = c$\n"
   ]
  },
  {
   "cell_type": "markdown",
   "metadata": {},
   "source": [
    "# Thoughts\n",
    "\n",
    "Options:\n",
    "\n",
    "- set $M_{PLL}$ to an integer (15 - 90) and $M_{MS}$ to an integer (6 - 1800)\n",
    "- what if integers don't work for a scenario?  Am I better off selecting PLL or MS as fractional?\n",
    "    - Fractional ratios introduce jitter (phase noise)\n",
    "    - If I set PLL as fraction, then all downstream MS inherit that noise, but at least that noise is *common* across all downstream clocks.  That's a good thing right?\n",
    "    \n",
    "Maybe I should forget about fiddling with different frequencies, and instead focus on manipulating phase lags of individual clocks.\n",
    "\n",
    "What is the minimum frequency resolution I want?  Better than 1 ppm for sure, relative to an output signal at 28.8 MHz.  That corresponds to 2.88 Hz resolution.  What if I shoot for 1 Hz?\n",
    "\n",
    "What numbers do I get if I stick with even integers top and bottom?\n",
    "\n",
    "### Rational Numbers and Fractions\n",
    "\n",
    "Given that we're representing arbitrary floating-point numbers in the form $a + \\frac{b}{c}$ I believe we'll see better performance on average if $a$ is always the `int` of the floating poijnt number in question.  The ratio of $b$ and $c$ is then used to represent a fractional value between 0 and 1.\n",
    "\n",
    "### Worlflow\n",
    "\n",
    "Start assuming that $M_{PLL}$ and $M_{MS}$ must both be integers.  Estimate those integers using Python `fractions` module.\n",
    "\n",
    "If resulting output frequency is not close enough, estimate a floating point number for $M_{MS}$ that gets us closer.\n",
    "\n",
    "If resulting frequency is still not good enough, estimate new floating point number for $M_{PLL}$.\n",
    "\n",
    "The end. "
   ]
  },
  {
   "cell_type": "markdown",
   "metadata": {},
   "source": [
    "---\n",
    "\n",
    "# Setup"
   ]
  },
  {
   "cell_type": "code",
   "execution_count": 1,
   "metadata": {},
   "outputs": [],
   "source": [
    "import numpy as np\n",
    "\n",
    "from snail.Si5351_Clock import clock"
   ]
  },
  {
   "cell_type": "markdown",
   "metadata": {},
   "source": [
    "# Plan"
   ]
  },
  {
   "cell_type": "code",
   "execution_count": 2,
   "metadata": {},
   "outputs": [],
   "source": [
    "f_XTAL = 25e6\n",
    "f_CLK = 28.8e6\n",
    "\n",
    "f_PLL_set = 800e6"
   ]
  },
  {
   "cell_type": "code",
   "execution_count": 3,
   "metadata": {},
   "outputs": [
    {
     "data": {
      "text/plain": [
       "(32, 27.77777777777778)"
      ]
     },
     "execution_count": 3,
     "metadata": {},
     "output_type": "execute_result"
    }
   ],
   "source": [
    "# PLL as integer multiplier, MS as floating-point divider\n",
    "M_PLL = int(f_PLL_set / f_XTAL)\n",
    "\n",
    "M_MS = f_XTAL * M_PLL / f_CLK\n",
    "\n",
    "M_PLL, M_MS"
   ]
  },
  {
   "cell_type": "code",
   "execution_count": 4,
   "metadata": {},
   "outputs": [
    {
     "data": {
      "text/plain": [
       "(27, 7, 9, 27.77777777777778, 27.77777777777778)"
      ]
     },
     "execution_count": 4,
     "metadata": {},
     "output_type": "execute_result"
    }
   ],
   "source": [
    "# MS as fraction\n",
    "a = int(M_MS)\n",
    "frac = M_MS - a\n",
    "\n",
    "# Basic limits.\n",
    "lohi_b = [0, 2**20]\n",
    "lohi_c = [1, 2**20]\n",
    "\n",
    "b, c = clock.rational_approximation(frac, lohi_num=lohi_b, lohi_den=lohi_c)\n",
    "\n",
    "a, b, c, a+b/c, M_MS"
   ]
  },
  {
   "cell_type": "markdown",
   "metadata": {},
   "source": [
    "# Define"
   ]
  },
  {
   "cell_type": "code",
   "execution_count": 5,
   "metadata": {},
   "outputs": [],
   "source": [
    "C = clock.Clock()"
   ]
  },
  {
   "cell_type": "code",
   "execution_count": 21,
   "metadata": {},
   "outputs": [],
   "source": [
    "C.reset()"
   ]
  },
  {
   "cell_type": "code",
   "execution_count": 22,
   "metadata": {},
   "outputs": [],
   "source": [
    "C.config_input()"
   ]
  },
  {
   "cell_type": "code",
   "execution_count": 23,
   "metadata": {},
   "outputs": [],
   "source": [
    "f_PLL = 800e6\n",
    "C.config_PLL(f_PLL)"
   ]
  },
  {
   "cell_type": "code",
   "execution_count": 24,
   "metadata": {},
   "outputs": [],
   "source": [
    "ix_MS = 0\n",
    "f_MS = 25e6\n",
    "src_PLL = 'A'\n",
    "C.config_MS(f_MS, ix_MS, src_PLL=src_PLL)"
   ]
  },
  {
   "cell_type": "code",
   "execution_count": 25,
   "metadata": {},
   "outputs": [],
   "source": [
    "ix_CLK = ix_MS\n",
    "C.config_CLK(ix_CLK)"
   ]
  },
  {
   "cell_type": "code",
   "execution_count": 26,
   "metadata": {},
   "outputs": [],
   "source": [
    "s_PLL = 'A'\n",
    "C.soft_reset_PLL(s_PLL)"
   ]
  },
  {
   "cell_type": "code",
   "execution_count": 27,
   "metadata": {},
   "outputs": [],
   "source": [
    "C.enable_output(ix_CLK)"
   ]
  },
  {
   "cell_type": "code",
   "execution_count": null,
   "metadata": {},
   "outputs": [],
   "source": []
  },
  {
   "cell_type": "code",
   "execution_count": null,
   "metadata": {},
   "outputs": [],
   "source": []
  },
  {
   "cell_type": "code",
   "execution_count": null,
   "metadata": {},
   "outputs": [],
   "source": []
  },
  {
   "cell_type": "code",
   "execution_count": null,
   "metadata": {},
   "outputs": [],
   "source": []
  },
  {
   "cell_type": "code",
   "execution_count": null,
   "metadata": {},
   "outputs": [],
   "source": []
  },
  {
   "cell_type": "markdown",
   "metadata": {},
   "source": [
    "# Output Stage (Clocks 1 - 7)"
   ]
  },
  {
   "cell_type": "code",
   "execution_count": 10,
   "metadata": {},
   "outputs": [],
   "source": [
    "# # CLK source: match output CLK with corresponding Stage-2 MultiSynth.  More complicated options are available.\n",
    "# C['CLK0_SRC'] = clock.constants.CLK_SRC_MS\n",
    "# C['CLK1_SRC'] = clock.constants.CLK_SRC_MS\n",
    "# C['CLK2_SRC'] = clock.constants.CLK_SRC_MS\n",
    "# C['CLK3_SRC'] = clock.constants.CLK_SRC_MS\n",
    "# C['CLK4_SRC'] = clock.constants.CLK_SRC_MS\n",
    "# C['CLK5_SRC'] = clock.constants.CLK_SRC_MS\n",
    "# C['CLK6_SRC'] = clock.constants.CLK_SRC_MS\n",
    "# C['CLK7_SRC'] = clock.constants.CLK_SRC_MS\n",
    "\n",
    "# C['CLK0_INV'] = clock.constants.CLK_INV_FALSE\n",
    "# C['CLK1_INV'] = clock.constants.CLK_INV_FALSE\n",
    "# C['CLK2_INV'] = clock.constants.CLK_INV_FALSE\n",
    "# C['CLK3_INV'] = clock.constants.CLK_INV_FALSE\n",
    "# C['CLK4_INV'] = clock.constants.CLK_INV_FALSE\n",
    "# C['CLK5_INV'] = clock.constants.CLK_INV_FALSE\n",
    "# C['CLK6_INV'] = clock.constants.CLK_INV_FALSE\n",
    "# C['CLK7_INV'] = clock.constants.CLK_INV_FALSE\n",
    "\n",
    "# # Clock drive current (what's the best setting here?)\n",
    "# C['CLK0_IDRV'] = clock.constants.CLK_IDRV_8\n",
    "# C['CLK1_IDRV'] = clock.constants.CLK_IDRV_8\n",
    "# C['CLK2_IDRV'] = clock.constants.CLK_IDRV_8\n",
    "# C['CLK3_IDRV'] = clock.constants.CLK_IDRV_8\n",
    "# C['CLK4_IDRV'] = clock.constants.CLK_IDRV_8\n",
    "# C['CLK5_IDRV'] = clock.constants.CLK_IDRV_8\n",
    "# C['CLK6_IDRV'] = clock.constants.CLK_IDRV_8\n",
    "# C['CLK7_IDRV'] = clock.constants.CLK_IDRV_8\n",
    "\n",
    "# # Initial phase values\n",
    "# C['CLK0_PHOFF'] = clock.constants.CLK_PHOFF_ZERO\n",
    "# C['CLK1_PHOFF'] = clock.constants.CLK_PHOFF_ZERO\n",
    "# C['CLK2_PHOFF'] = clock.constants.CLK_PHOFF_ZERO\n",
    "# C['CLK3_PHOFF'] = clock.constants.CLK_PHOFF_ZERO\n",
    "# C['CLK4_PHOFF'] = clock.constants.CLK_PHOFF_ZERO\n",
    "# C['CLK5_PHOFF'] = clock.constants.CLK_PHOFF_ZERO\n",
    "# # C['CLK6_PHOFF'] = clock.constants.CLK_PHOFF_ZERO  # does not exist\n",
    "# # C['CLK7_PHOFF'] = clock.constants.CLK_PHOFF_ZERO  # does not exist\n",
    "\n",
    "\n",
    "# # Clock final divide (unity)\n",
    "# C['R0_DIV'] = clock.constants.R_DIV_1\n",
    "# C['R1_DIV'] = clock.constants.R_DIV_1\n",
    "# C['R2_DIV'] = clock.constants.R_DIV_1\n",
    "# C['R3_DIV'] = clock.constants.R_DIV_1\n",
    "# C['R4_DIV'] = clock.constants.R_DIV_1\n",
    "# C['R5_DIV'] = clock.constants.R_DIV_1\n",
    "# C['R6_DIV'] = clock.constants.R_DIV_1\n",
    "# C['R7_DIV'] = clock.constants.R_DIV_1"
   ]
  },
  {
   "cell_type": "code",
   "execution_count": null,
   "metadata": {},
   "outputs": [],
   "source": []
  }
 ],
 "metadata": {
  "kernelspec": {
   "display_name": "Python 3",
   "language": "python",
   "name": "python3"
  },
  "language_info": {
   "codemirror_mode": {
    "name": "ipython",
    "version": 3
   },
   "file_extension": ".py",
   "mimetype": "text/x-python",
   "name": "python",
   "nbconvert_exporter": "python",
   "pygments_lexer": "ipython3",
   "version": "3.6.4"
  }
 },
 "nbformat": 4,
 "nbformat_minor": 2
}
