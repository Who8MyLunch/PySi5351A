{
 "cells": [
  {
   "cell_type": "markdown",
   "metadata": {},
   "source": [
    "# Configuration Notes\n",
    "\n",
    "Configuring device consists of four stages as shown in figure below, plus an initial set of reset instructions.\n",
    "\n",
    "![hello](../doc/diagram.png)"
   ]
  },
  {
   "cell_type": "markdown",
   "metadata": {},
   "source": [
    "# Config Notes\n",
    "\n",
    "Variable $x$ refers to PLLs A or B.\n",
    "\n",
    "Variable $y$ refers to CLKs 0 through 7.\n",
    "\n",
    "## Input Stage\n",
    "\n",
    "**Registers**: XTAL_CL, CLKIN_DIV\n",
    "    \n",
    "Input frequency: $f_{IN}$ determined by input source selected from one of CLKIN, XTAL, or VC.\n",
    "\n"
   ]
  },
  {
   "cell_type": "code",
   "execution_count": 15,
   "metadata": {},
   "outputs": [
    {
     "data": {
      "text/plain": [
       "32.0"
      ]
     },
     "execution_count": 15,
     "metadata": {},
     "output_type": "execute_result"
    }
   ],
   "source": [
    "800/25"
   ]
  },
  {
   "cell_type": "markdown",
   "metadata": {},
   "source": [
    "## Synthesis Stage 1 (PLL)\n",
    "\n",
    "**Registers**:\n",
    "- $N_x$: MSNx_P1 (18 bits), MSNx_P2 (20 bits), MSNx_P3 (20 bits)\n",
    "- FBx_INT\n",
    "\n",
    "\n",
    "Generate PLL intermediate frequency.  Many documents refer to this signal as $f_{VCO}$, but I'm calling it $f_{PLLx}$.  Phase control is performed later in units of one fourth the period of this signal.  If I want high phase resolution, I should force this intermediate frequency as high as possible.\n",
    " \n",
    "$f_{PLLx} = f_{IN} \\times N_{x}$\n",
    "\n",
    "where\n",
    "\n",
    "$N_{x} = a + \\frac{b}{c}$ and must be in the range 15 - 90.\n",
    "\n",
    "**How**: Given $f_{IN}$ and desired PLL frequency $f_{PLLx}$, start things off by computing $N_x \\approx \\frac{f_{PLLx}}{f_{IN}}$.  See below for a, b, and c parameters for encoding this number.\n",
    "\n",
    "Valid $N_{x}$ ratios are 4, 6, 8, and any fractional value between (15 + 0/1,048,575) and (90 + 0/1,048,575).\n",
    "\n",
    "If $N_x$ is an event integer then also set FBx_INT to 1."
   ]
  },
  {
   "cell_type": "markdown",
   "metadata": {},
   "source": [
    "## Synthesis Stage 2 (MS)\n",
    "\n",
    "Generate MultiSynth clock frequencies in the range 500 kHz and 150 MHz.\n",
    "\n",
    "$f_{MSy} = f_{IN} \\times \\frac{N_{x}}{M_{y}}$\n",
    "\n",
    "where\n",
    "\n",
    "$M_{y} = p + \\frac{q}{r}$ and must be in the range 6 - 1800.\n",
    "\n",
    "Notes:\n",
    "- MS6 and MS7 do not have parameters $q$ and $r$.\n",
    "- CLK6 and CLK7 MultiSynth divide ratios are restricted to even integer in the range 6 to 254.\n",
    "\n",
    "\n",
    "Registers: MSx_P1 (18 bits), MSx_P2 (20 bits), MSx_P3 (20 bits)\n",
    "\n"
   ]
  },
  {
   "cell_type": "markdown",
   "metadata": {},
   "source": [
    "## Output Stage\n",
    "\n",
    "Final divider $R_y$ is a power of 2: 1, 2, 4, 8, ..., 128.\n",
    "\n",
    "$f_{CLKy} = f_{IN} \\times \\frac{N_{x}}{M_{y} \\times R_{y}}$\n"
   ]
  },
  {
   "cell_type": "markdown",
   "metadata": {},
   "source": [
    "# Multiplier Encoding\n",
    "\n",
    "Frequency multiplier/dividers $M_{PLL}$ and $M_{MS}$ are each encoded using the following scheme:\n",
    "\n",
    "$P_1 = 128 \\times a + Floor\\left(128 \\times \\frac{b}{c}\\right) - 512$\n",
    "\n",
    "$P_2 = 128 \\times b - c \\times Floor\\left(128 \\times \\frac{b}{c}\\right)$\n",
    "\n",
    "$P_3 = c$\n"
   ]
  },
  {
   "cell_type": "markdown",
   "metadata": {},
   "source": [
    "# Thoughts\n",
    "\n",
    "Options:\n",
    "\n",
    "- set $M_{PLL}$ to an integer (15 - 90) and $M_{MS}$ to an integer (6 - 1800)\n",
    "- what if integers don't work for a scenario?  Am I better off selecting PLL or MS as fractional?\n",
    "    - Fractional ratios introduce jitter (phase noise)\n",
    "    - If I set PLL as fraction, then all downstream MS inherit that noise, but at least that noise is *common* across all downstream clocks.  That's a good thing right?\n",
    "    \n",
    "Maybe I should forget about fiddling with different frequencies, and instead focus on manipulating phase lags of individual clocks.\n",
    "\n",
    "What is the minimum frequency resolution I want?  Better than 1 ppm for sure, relative to an output signal at 28.8 MHz.  That corresponds to 2.88 Hz resolution.  What if I shoot for 1 Hz?\n",
    "\n",
    "What numbers do I get if I stick with even integers top and bottom?"
   ]
  },
  {
   "cell_type": "code",
   "execution_count": 76,
   "metadata": {},
   "outputs": [],
   "source": [
    "f_src = 25e6  # MHz\n",
    "f_targ = 28.8e6\n",
    "\n",
    "ratio = f_targ / f_src"
   ]
  },
  {
   "cell_type": "code",
   "execution_count": null,
   "metadata": {},
   "outputs": [],
   "source": []
  },
  {
   "cell_type": "code",
   "execution_count": null,
   "metadata": {},
   "outputs": [],
   "source": []
  },
  {
   "cell_type": "code",
   "execution_count": 88,
   "metadata": {},
   "outputs": [],
   "source": [
    "N = 91\n",
    "M = 79\n",
    "R = 1"
   ]
  },
  {
   "cell_type": "code",
   "execution_count": 89,
   "metadata": {},
   "outputs": [],
   "source": [
    "f_PLL = f_src * N"
   ]
  },
  {
   "cell_type": "code",
   "execution_count": 90,
   "metadata": {},
   "outputs": [],
   "source": [
    "f_CLK = f_src * N / M / R"
   ]
  },
  {
   "cell_type": "code",
   "execution_count": 91,
   "metadata": {},
   "outputs": [
    {
     "data": {
      "text/plain": [
       "28797468.35443038"
      ]
     },
     "execution_count": 91,
     "metadata": {},
     "output_type": "execute_result"
    }
   ],
   "source": [
    "f_CLK "
   ]
  },
  {
   "cell_type": "code",
   "execution_count": 92,
   "metadata": {},
   "outputs": [
    {
     "data": {
      "text/plain": [
       "Fraction(53, 46)"
      ]
     },
     "execution_count": 92,
     "metadata": {},
     "output_type": "execute_result"
    }
   ],
   "source": [
    "M = fractions.Fraction(ratio)\n",
    "\n",
    "M = M.limit_denominator(60)\n",
    "\n",
    "M"
   ]
  },
  {
   "cell_type": "code",
   "execution_count": 93,
   "metadata": {},
   "outputs": [
    {
     "data": {
      "text/plain": [
       "28804347.826086957"
      ]
     },
     "execution_count": 93,
     "metadata": {},
     "output_type": "execute_result"
    }
   ],
   "source": [
    "f_est = f_src * M\n",
    "\n",
    "f_est"
   ]
  },
  {
   "cell_type": "code",
   "execution_count": 94,
   "metadata": {},
   "outputs": [
    {
     "data": {
      "text/plain": [
       "4347.826086957008"
      ]
     },
     "execution_count": 94,
     "metadata": {},
     "output_type": "execute_result"
    }
   ],
   "source": [
    "f_est - f_targ"
   ]
  },
  {
   "cell_type": "code",
   "execution_count": 78,
   "metadata": {},
   "outputs": [
    {
     "data": {
      "text/plain": [
       "Fraction(144, 125)"
      ]
     },
     "execution_count": 78,
     "metadata": {},
     "output_type": "execute_result"
    }
   ],
   "source": [
    "MS_max = 1800\n",
    "M.limit_denominator(1800)"
   ]
  },
  {
   "cell_type": "code",
   "execution_count": 42,
   "metadata": {},
   "outputs": [],
   "source": [
    "O=1/M"
   ]
  },
  {
   "cell_type": "code",
   "execution_count": 43,
   "metadata": {},
   "outputs": [
    {
     "data": {
      "text/plain": [
       "Fraction(91, 79)"
      ]
     },
     "execution_count": 43,
     "metadata": {},
     "output_type": "execute_result"
    }
   ],
   "source": [
    "O.limit_denominator(90)"
   ]
  },
  {
   "cell_type": "code",
   "execution_count": null,
   "metadata": {},
   "outputs": [],
   "source": [
    "r_est = "
   ]
  },
  {
   "cell_type": "code",
   "execution_count": null,
   "metadata": {},
   "outputs": [],
   "source": [
    "f_est = f_src * r_est"
   ]
  },
  {
   "cell_type": "code",
   "execution_count": 32,
   "metadata": {},
   "outputs": [
    {
     "data": {
      "text/plain": [
       "Fraction(91, 79)"
      ]
     },
     "execution_count": 32,
     "metadata": {},
     "output_type": "execute_result"
    }
   ],
   "source": [
    "L = M.limit_denominator(90)\n",
    "\n",
    "L"
   ]
  },
  {
   "cell_type": "code",
   "execution_count": 34,
   "metadata": {},
   "outputs": [
    {
     "data": {
      "text/plain": [
       "0.28384317862165953"
      ]
     },
     "execution_count": 34,
     "metadata": {},
     "output_type": "execute_result"
    }
   ],
   "source": [
    "L - r"
   ]
  },
  {
   "cell_type": "code",
   "execution_count": 23,
   "metadata": {},
   "outputs": [
    {
     "data": {
      "text/plain": [
       "0.8680555555555556"
      ]
     },
     "execution_count": 23,
     "metadata": {},
     "output_type": "execute_result"
    }
   ],
   "source": [
    "float(M.limit_denominator(900))"
   ]
  },
  {
   "cell_type": "code",
   "execution_count": 25,
   "metadata": {},
   "outputs": [
    {
     "data": {
      "text/plain": [
       "Fraction(125, 144)"
      ]
     },
     "execution_count": 25,
     "metadata": {},
     "output_type": "execute_result"
    }
   ],
   "source": [
    "M.limit_denominator(900)"
   ]
  },
  {
   "cell_type": "code",
   "execution_count": null,
   "metadata": {},
   "outputs": [],
   "source": []
  },
  {
   "cell_type": "code",
   "execution_count": null,
   "metadata": {},
   "outputs": [],
   "source": []
  },
  {
   "cell_type": "code",
   "execution_count": null,
   "metadata": {},
   "outputs": [],
   "source": []
  },
  {
   "cell_type": "markdown",
   "metadata": {},
   "source": [
    "---\n",
    "\n",
    "# Define clock instance"
   ]
  },
  {
   "cell_type": "code",
   "execution_count": 5,
   "metadata": {},
   "outputs": [],
   "source": [
    "import fractions\n",
    "\n",
    "import numpy as np\n",
    "\n",
    "from snail.Si5351_Clock import clock"
   ]
  },
  {
   "cell_type": "code",
   "execution_count": 6,
   "metadata": {},
   "outputs": [],
   "source": [
    "C = clock.Clock()"
   ]
  },
  {
   "cell_type": "markdown",
   "metadata": {},
   "source": [
    "# Reset device"
   ]
  },
  {
   "cell_type": "code",
   "execution_count": 7,
   "metadata": {},
   "outputs": [],
   "source": [
    "# Specify clock state when its disabled\n",
    "C['CLK0_DIS_STATE'] = clock.constants.CLK_DIS_STATE_LOW\n",
    "C['CLK1_DIS_STATE'] = clock.constants.CLK_DIS_STATE_LOW\n",
    "C['CLK2_DIS_STATE'] = clock.constants.CLK_DIS_STATE_LOW\n",
    "C['CLK3_DIS_STATE'] = clock.constants.CLK_DIS_STATE_LOW\n",
    "C['CLK4_DIS_STATE'] = clock.constants.CLK_DIS_STATE_LOW\n",
    "C['CLK5_DIS_STATE'] = clock.constants.CLK_DIS_STATE_LOW\n",
    "C['CLK6_DIS_STATE'] = clock.constants.CLK_DIS_STATE_LOW\n",
    "C['CLK7_DIS_STATE'] = clock.constants.CLK_DIS_STATE_LOW\n",
    "\n",
    "# Disable all clocks\n",
    "C['CLK0_OEB'] = clock.constants.CLK_OEB_DISABLE\n",
    "C['CLK1_OEB'] = clock.constants.CLK_OEB_DISABLE\n",
    "C['CLK2_OEB'] = clock.constants.CLK_OEB_DISABLE\n",
    "C['CLK3_OEB'] = clock.constants.CLK_OEB_DISABLE\n",
    "C['CLK4_OEB'] = clock.constants.CLK_OEB_DISABLE\n",
    "C['CLK5_OEB'] = clock.constants.CLK_OEB_DISABLE\n",
    "C['CLK6_OEB'] = clock.constants.CLK_OEB_DISABLE\n",
    "C['CLK7_OEB'] = clock.constants.CLK_OEB_DISABLE\n",
    "\n",
    "# Power down all output drivers\n",
    "C['CLK0_PDN'] = clock.constants.CLK_PDN_OFF\n",
    "C['CLK1_PDN'] = clock.constants.CLK_PDN_OFF\n",
    "C['CLK2_PDN'] = clock.constants.CLK_PDN_OFF\n",
    "C['CLK3_PDN'] = clock.constants.CLK_PDN_OFF\n",
    "C['CLK4_PDN'] = clock.constants.CLK_PDN_OFF\n",
    "C['CLK5_PDN'] = clock.constants.CLK_PDN_OFF\n",
    "C['CLK6_PDN'] = clock.constants.CLK_PDN_OFF\n",
    "C['CLK7_PDN'] = clock.constants.CLK_PDN_OFF\n",
    "\n",
    "# Set interrupt masks to null thus allowing all asserts to go through\n",
    "C['SYS_INIT_MASK'] = 0\n",
    "C['LOL_A_MASK'] = 0\n",
    "C['LOL_B_MASK'] = 0\n",
    "C['LOS_MASK'] = 0 \n",
    "\n",
    "# Fanout options\n",
    "C['CLKIN_FANOUT_EN'] = clock.constants.FANOUT_DISABLE\n",
    "C['XO_FANOUT_EN'] =    clock.constants.FANOUT_DISABLE\n",
    "C['MS_FANOUT_EN'] =    clock.constants.FANOUT_DISABLE"
   ]
  },
  {
   "cell_type": "markdown",
   "metadata": {},
   "source": [
    "# Input Stage\n",
    "\n"
   ]
  },
  {
   "cell_type": "code",
   "execution_count": 8,
   "metadata": {},
   "outputs": [],
   "source": [
    "# Crystal's internal load capacitance\n",
    "C['XTAL_CL'] = clock.constants.XTAL_CL_10PF   # XTAL_CL_6PF or XTAL_CL_8PF or XTAL_CL_10PF (default)\n",
    "\n",
    "# Input clock frequency divider\n",
    "C['CLKIN_DIV'] = clock.constants.CLKIN_DIV_1  # CLKIN_DIV_1, CLKIN_DIV_2, CLKIN_DIV_4 or CLKIN_DIV_8"
   ]
  },
  {
   "cell_type": "markdown",
   "metadata": {},
   "source": [
    " # Synthesis Stage 1 (PLL A and B)"
   ]
  },
  {
   "cell_type": "code",
   "execution_count": 5,
   "metadata": {},
   "outputs": [
    {
     "ename": "SyntaxError",
     "evalue": "invalid syntax (<ipython-input-5-bdb56bb032fe>, line 15)",
     "output_type": "error",
     "traceback": [
      "\u001b[0;36m  File \u001b[0;32m\"<ipython-input-5-bdb56bb032fe>\"\u001b[0;36m, line \u001b[0;32m15\u001b[0m\n\u001b[0;31m    - MSNx_P1:\u001b[0m\n\u001b[0m               ^\u001b[0m\n\u001b[0;31mSyntaxError\u001b[0m\u001b[0;31m:\u001b[0m invalid syntax\n"
     ]
    }
   ],
   "source": [
    "# PLL source: PLL_SRC_XTAL (Si5351 A/B/C) or PLL_SRC_CLKIN (Si5351C only)\n",
    "C['PLLA_SRC'] = clock.constants.PLL_SRC_XTAL\n",
    "C['PLLB_SRC'] = clock.constants.PLL_SRC_XTAL\n",
    "\n",
    "# given f_IN and desired PLL frequency, solve for N_x.  Then encode N_x via a, b, c parameters.\n",
    "\n",
    "# see AN619 section 3.2, p. 3.\n",
    "\n",
    "# idea: write a single function that determines values for MSN{A,B}_P{1,2,3} plus corresponding value for FB_INT.\n",
    "# set to particular x clock making the calculation.\n",
    "# allow for CLKIN or XTAL as source, driven by above setting for PLL{A,B}_SRC \n",
    "\n",
    "# compute a, b, and c\n",
    "# compute and store MSN_P{1,2,3}\n",
    "# test for integers, set FB{A,B}_INT\n",
    "\n",
    "- MSNx_P1: \n",
    "- MSNx_P2:\n",
    "- MSNx_P3:\n",
    "\n",
    "- FBx_INT:"
   ]
  },
  {
   "cell_type": "markdown",
   "metadata": {},
   "source": [
    "# Synthesis Stage 2 (MultiSynths 0 - 7)"
   ]
  },
  {
   "cell_type": "code",
   "execution_count": 7,
   "metadata": {},
   "outputs": [],
   "source": [
    "# Select PLL A as source for each MultiSynth\n",
    "C['MS0_SRC'] = clock.constants.MS_SRC_PLL_A\n",
    "C['MS1_SRC'] = clock.constants.MS_SRC_PLL_A\n",
    "C['MS2_SRC'] = clock.constants.MS_SRC_PLL_A\n",
    "C['MS3_SRC'] = clock.constants.MS_SRC_PLL_A\n",
    "C['MS4_SRC'] = clock.constants.MS_SRC_PLL_A\n",
    "C['MS5_SRC'] = clock.constants.MS_SRC_PLL_A\n",
    "C['MS6_SRC'] = clock.constants.MS_SRC_PLL_A\n",
    "C['MS7_SRC'] = clock.constants.MS_SRC_PLL_A\n",
    "\n",
    "# Disable divide-by-4\n",
    "C['MS0_DIVBY4'] = clock.constants.MS_DIVBY4_DISABLE\n",
    "C['MS1_DIVBY4'] = clock.constants.MS_DIVBY4_DISABLE\n",
    "C['MS2_DIVBY4'] = clock.constants.MS_DIVBY4_DISABLE\n",
    "C['MS3_DIVBY4'] = clock.constants.MS_DIVBY4_DISABLE\n",
    "C['MS4_DIVBY4'] = clock.constants.MS_DIVBY4_DISABLE\n",
    "C['MS5_DIVBY4'] = clock.constants.MS_DIVBY4_DISABLE\n",
    "# C['MS6_DIVBY4'] = clock.constants.MS_DIVBY4_DISABLE   # does not exist\n",
    "# C['MS7_DIVBY4'] = clock.constants.MS_DIVBY4_DISABLE   # does not exist\n",
    "\n",
    "\n",
    "# Set various MS P1, P2, P3 values\n",
    "\n",
    "# INT"
   ]
  },
  {
   "cell_type": "markdown",
   "metadata": {},
   "source": [
    "# Output Stage (Clocks 1 - 7)"
   ]
  },
  {
   "cell_type": "code",
   "execution_count": 10,
   "metadata": {},
   "outputs": [],
   "source": [
    "# CLK source: match output CLK with corresponding Stage-2 MultiSynth.  More complicated options are available.\n",
    "C['CLK0_SRC'] = clock.constants.CLK_SRC_MS\n",
    "C['CLK1_SRC'] = clock.constants.CLK_SRC_MS\n",
    "C['CLK2_SRC'] = clock.constants.CLK_SRC_MS\n",
    "C['CLK3_SRC'] = clock.constants.CLK_SRC_MS\n",
    "C['CLK4_SRC'] = clock.constants.CLK_SRC_MS\n",
    "C['CLK5_SRC'] = clock.constants.CLK_SRC_MS\n",
    "C['CLK6_SRC'] = clock.constants.CLK_SRC_MS\n",
    "C['CLK7_SRC'] = clock.constants.CLK_SRC_MS\n",
    "\n",
    "C['CLK0_INV'] = clock.constants.CLK_INV_FALSE\n",
    "C['CLK1_INV'] = clock.constants.CLK_INV_FALSE\n",
    "C['CLK2_INV'] = clock.constants.CLK_INV_FALSE\n",
    "C['CLK3_INV'] = clock.constants.CLK_INV_FALSE\n",
    "C['CLK4_INV'] = clock.constants.CLK_INV_FALSE\n",
    "C['CLK5_INV'] = clock.constants.CLK_INV_FALSE\n",
    "C['CLK6_INV'] = clock.constants.CLK_INV_FALSE\n",
    "C['CLK7_INV'] = clock.constants.CLK_INV_FALSE\n",
    "\n",
    "# Clock drive current (what's the best setting here?)\n",
    "C['CLK0_IDRV'] = clock.constants.CLK_IDRV_8\n",
    "C['CLK1_IDRV'] = clock.constants.CLK_IDRV_8\n",
    "C['CLK2_IDRV'] = clock.constants.CLK_IDRV_8\n",
    "C['CLK3_IDRV'] = clock.constants.CLK_IDRV_8\n",
    "C['CLK4_IDRV'] = clock.constants.CLK_IDRV_8\n",
    "C['CLK5_IDRV'] = clock.constants.CLK_IDRV_8\n",
    "C['CLK6_IDRV'] = clock.constants.CLK_IDRV_8\n",
    "C['CLK7_IDRV'] = clock.constants.CLK_IDRV_8\n",
    "\n",
    "# Initial phase values\n",
    "C['CLK0_PHOFF'] = clock.constants.CLK_PHOFF_ZERO\n",
    "C['CLK1_PHOFF'] = clock.constants.CLK_PHOFF_ZERO\n",
    "C['CLK2_PHOFF'] = clock.constants.CLK_PHOFF_ZERO\n",
    "C['CLK3_PHOFF'] = clock.constants.CLK_PHOFF_ZERO\n",
    "C['CLK4_PHOFF'] = clock.constants.CLK_PHOFF_ZERO\n",
    "C['CLK5_PHOFF'] = clock.constants.CLK_PHOFF_ZERO\n",
    "# C['CLK6_PHOFF'] = clock.constants.CLK_PHOFF_ZERO  # does not exist\n",
    "# C['CLK7_PHOFF'] = clock.constants.CLK_PHOFF_ZERO  # does not exist\n",
    "\n",
    "\n",
    "# Clock final divide (unity)\n",
    "C['R0_DIV'] = clock.constants.R_DIV_1\n",
    "C['R1_DIV'] = clock.constants.R_DIV_1\n",
    "C['R2_DIV'] = clock.constants.R_DIV_1\n",
    "C['R3_DIV'] = clock.constants.R_DIV_1\n",
    "C['R4_DIV'] = clock.constants.R_DIV_1\n",
    "C['R5_DIV'] = clock.constants.R_DIV_1\n",
    "C['R6_DIV'] = clock.constants.R_DIV_1\n",
    "C['R7_DIV'] = clock.constants.R_DIV_1"
   ]
  },
  {
   "cell_type": "code",
   "execution_count": null,
   "metadata": {},
   "outputs": [],
   "source": []
  }
 ],
 "metadata": {
  "kernelspec": {
   "display_name": "Python 3",
   "language": "python",
   "name": "python3"
  },
  "language_info": {
   "codemirror_mode": {
    "name": "ipython",
    "version": 3
   },
   "file_extension": ".py",
   "mimetype": "text/x-python",
   "name": "python",
   "nbconvert_exporter": "python",
   "pygments_lexer": "ipython3",
   "version": "3.6.4"
  }
 },
 "nbformat": 4,
 "nbformat_minor": 2
}
