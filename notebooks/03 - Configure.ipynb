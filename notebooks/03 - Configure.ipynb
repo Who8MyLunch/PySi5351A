{
 "cells": [
  {
   "cell_type": "code",
   "execution_count": 1,
   "metadata": {},
   "outputs": [],
   "source": [
    "import fractions\n",
    "\n",
    "import numpy as np\n",
    "\n",
    "from snail.Si5351_Clock import clock"
   ]
  },
  {
   "cell_type": "markdown",
   "metadata": {},
   "source": [
    "# Define clock instance"
   ]
  },
  {
   "cell_type": "code",
   "execution_count": 2,
   "metadata": {},
   "outputs": [],
   "source": [
    "C = clock.Clock(bus=1)"
   ]
  },
  {
   "cell_type": "markdown",
   "metadata": {},
   "source": [
    "# Initialize device"
   ]
  },
  {
   "cell_type": "code",
   "execution_count": 6,
   "metadata": {},
   "outputs": [],
   "source": [
    "# Define clock's state when a clock is disabled\n",
    "C['CLK0_DIS_STATE'] = clock.constants.CLK_DIS_STATE_DEF\n",
    "C['CLK1_DIS_STATE'] = clock.constants.CLK_DIS_STATE_DEF\n",
    "C['CLK2_DIS_STATE'] = clock.constants.CLK_DIS_STATE_DEF\n",
    "\n",
    "###\n",
    "# process all clocks here, independent of A/B/C models\n",
    "###\n",
    "\n",
    "# Disable clocks\n",
    "C['CLK0_OEB'] = clock.constants.CLK_OEB_DISABLE\n",
    "C['CLK1_OEB'] = clock.constants.CLK_OEB_DISABLE\n",
    "C['CLK2_OEB'] = clock.constants.CLK_OEB_DISABLE\n",
    "\n",
    "# Power down output drivers\n",
    "C['CLK0_PDN'] = clock.constants.CLK_PDN_OFF\n",
    "C['CLK1_PDN'] = clock.constants.CLK_PDN_OFF\n",
    "C['CLK2_PDN'] = clock.constants.CLK_PDN_OFF\n",
    "\n",
    "# Set interrupt masks to allow all asserts to go through\n",
    "C['SYS_INIT_MASK'] = 0\n",
    "C['LOL_A_MASK'] = 0\n",
    "C['LOL_B_MASK'] = 0\n",
    "C['LOS_MASK'] = 0 "
   ]
  },
  {
   "cell_type": "markdown",
   "metadata": {},
   "source": [
    "# Characterize input signals"
   ]
  },
  {
   "cell_type": "code",
   "execution_count": 7,
   "metadata": {},
   "outputs": [],
   "source": [
    "# Crystal's internal load capacitance\n",
    "C['XTAL_CL'] = clock.constants.XTAL_CL_10PF   # XTAL_CL_6PF or XTAL_CL_8PF or XTAL_CL_10PF (default)\n",
    "\n",
    "# Input clock frequency divider\n",
    "C['CLKIN_DIV'] = clock.constants.CLKIN_DIV_1  # CLKIN_DIV_1, CLKIN_DIV_2, CLKIN_DIV_4 or CLKIN_DIV_8"
   ]
  },
  {
   "cell_type": "markdown",
   "metadata": {},
   "source": [
    " # PLL sources and multipliers"
   ]
  },
  {
   "cell_type": "code",
   "execution_count": null,
   "metadata": {},
   "outputs": [],
   "source": [
    "# PLL source: PLL_SRC_XTAL (Si5351 A/B/C) or PLL_SRC_CLKIN (Si5351C only)\n",
    "C['PLLA_SRC'] = clock.constants.PLL_SRC_DEF  # PLL_SRC_XTAL\n",
    "C['PLLB_SRC'] = clock.constants.PLL_SRC_DEF  # PLL_SRC_XTAL\n",
    "\n",
    "# see AN619 section 3.2, p. 3.\n",
    "\n",
    "# idea: write a single function that determines values for MSN{A,B}_P{1,2,3} plus corresponding value for FB_INT.\n",
    "# set to particular x clock making the calculation.\n",
    "# allow for CLKIN or XTAL as source, driven by above setting for PLL{A,B}_SRC \n",
    "\n",
    "# compute a, b, and c\n",
    "# compute and store MSN_P{1,2,3}\n",
    "# test for integers, set FB{A,B}_INT\n",
    "\n",
    "- MSNx_P1: \n",
    "- MSNx_P2:\n",
    "- MSNx_P3:\n",
    "\n",
    "- FBx_INT:"
   ]
  },
  {
   "cell_type": "code",
   "execution_count": null,
   "metadata": {},
   "outputs": [],
   "source": [
    "# Configure SYS\n",
    "\n",
    "# Configure PLLs\n",
    "\n",
    "# Configure MSs\n",
    "\n",
    "# Configure CLKs"
   ]
  },
  {
   "cell_type": "code",
   "execution_count": null,
   "metadata": {},
   "outputs": [],
   "source": [
    "# Enable CLKs "
   ]
  }
 ],
 "metadata": {
  "kernelspec": {
   "display_name": "Python 3",
   "language": "python",
   "name": "python3"
  },
  "language_info": {
   "codemirror_mode": {
    "name": "ipython",
    "version": 3
   },
   "file_extension": ".py",
   "mimetype": "text/x-python",
   "name": "python",
   "nbconvert_exporter": "python",
   "pygments_lexer": "ipython3",
   "version": "3.6.4"
  }
 },
 "nbformat": 4,
 "nbformat_minor": 2
}
