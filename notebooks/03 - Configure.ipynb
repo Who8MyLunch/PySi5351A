{
 "cells": [
  {
   "cell_type": "markdown",
   "metadata": {},
   "source": [
    "Configuring device consists of four stages as shown in figure below, plus an initial set of reset instructions.\n",
    "\n",
    "![hello](../doc/diagram.png)"
   ]
  },
  {
   "cell_type": "markdown",
   "metadata": {},
   "source": [
    "# Math\n",
    "\n",
    "\n",
    "### Input Stage\n",
    "\n",
    "Input frequency: $f_{IN}$ determined by input source selected from one of CLKIN, XTAL, or VC.\n",
    "\n",
    "\n",
    "### Synthesis Stage 1 (PLL)\n",
    "\n",
    "Generate PLL_A or PLL_B intermediate frequency in the range 600 - 900 MHz.\n",
    " \n",
    "$f_{PLL} = f_{IN} \\times M_{PLL}$\n",
    "\n",
    "where\n",
    "\n",
    "$M_{PLL} = a + \\frac{b}{c}$ and must be in the range 15 - 90.\n",
    "\n",
    "Valid $M_{PLL}$ divider ratios are 4, 6, 8, and any fractional value between 15 + 0/1,048,575 and 90 +0/1,048,575 (conflicting values in documentation: 8 + 1/1,048,575 and 900 + 0/1???)\n",
    "    - Note: CLK6 and CLK7 MultiSynth divide ratios are restricted to even integer in the range 6 to 254.\n",
    "\n",
    "Registers: MSNx_P1 (18 bits), MSNx_P2 (20 bits), MSNx_P3 (20 bits)\n",
    "\n",
    "### Synthesis Stage 2 (MS)\n",
    "\n",
    "Generate MultiSynth clock frequencies in the range 500 kHz and 150 MHz (additional steps required for frequencies beyond 150 MHz and up to 200 MHz)\n",
    "\n",
    "$f_{MS} = \\frac{f_{PLL}}{M_{MS}} = f_{IN} \\times \\frac{M_{PLL}}{M_{MS}}$\n",
    "\n",
    "where\n",
    "\n",
    "$M_{MS} = p + \\frac{q}{r}$ and must be in the range 6 - 1800.\n",
    "\n",
    "Note: MS6 and MS7 do not have parameters $q$ and $r$.\n",
    "\n",
    "Registers: MSx_P1 (18 bits), MSx_P2 (20 bits), MSx_P3 (20 bits)\n",
    "\n",
    "### Output Stage\n",
    "\n",
    "$f_{CLK} = \\frac{f_{MS}}{R_{CLK}} = f_{IN} \\times \\frac{M_{PLL}}{M_{MS} \\times R_{CLK}}$\n"
   ]
  },
  {
   "cell_type": "markdown",
   "metadata": {},
   "source": [
    "# Multiplier Encoding\n",
    "\n",
    "Frequency multiplier/dividers $M_{PLL}$ and $M_{MS}$ are each encoded using the following scheme:\n",
    "\n",
    "$P_1 = 128 \\times x + Floor\\left(128 \\times \\frac{y}{z}\\right) - 512$\n",
    "\n",
    "$P_2 = 128 \\times y - z \\times Floor\\left(128 \\times \\frac{y}{z}\\right)$\n",
    "\n",
    "$P_3 = z$\n"
   ]
  },
  {
   "cell_type": "markdown",
   "metadata": {},
   "source": [
    "# Thoughts\n",
    "\n",
    "Options:\n",
    "\n",
    "- set $M_{PLL}$ to an integer (15 - 90) and $M_{MS}$ to an integer (6 - 1800)\n",
    "- what if integers don't work for a scenario?  Am I better off selecting PLL or MS as fractional?\n",
    "    - Fractional ratios introduce jitter (phase noise)\n",
    "    - If I set PLL as fraction, then all downstream MS inherit that noise, but at least that noise is *common* across all downstream clocks.  That's a good thing right?\n",
    "    \n",
    "Maybe I should forget about fiddling with different frequencies, and instead focus on manipulating phase lags of individual clocks.\n",
    "\n",
    "What is the minimum frequency resolution I want?  Better than 1 ppm for sure, relative to an output signal at 28.8 MHz.  That corresponds to 2.88 Hz resolution.  What I shoot for 1 Hz?"
   ]
  },
  {
   "cell_type": "code",
   "execution_count": 37,
   "metadata": {},
   "outputs": [
    {
     "data": {
      "text/plain": [
       "(8948742512799759, 1073741824)"
      ]
     },
     "execution_count": 37,
     "metadata": {},
     "output_type": "execute_result"
    }
   ],
   "source": [
    "(f_src*1.111111/3.333).as_integer_ratio()"
   ]
  },
  {
   "cell_type": "code",
   "execution_count": 9,
   "metadata": {},
   "outputs": [
    {
     "ename": "NameError",
     "evalue": "name 'a' is not defined",
     "output_type": "error",
     "traceback": [
      "\u001b[0;31m---------------------------------------------------------------------------\u001b[0m",
      "\u001b[0;31mNameError\u001b[0m                                 Traceback (most recent call last)",
      "\u001b[0;32m<ipython-input-9-a48d3d7ea69f>\u001b[0m in \u001b[0;36m<module>\u001b[0;34m()\u001b[0m\n\u001b[1;32m      1\u001b[0m \u001b[0mf_src\u001b[0m \u001b[0;34m=\u001b[0m \u001b[0;36m25e6\u001b[0m  \u001b[0;31m# MHz\u001b[0m\u001b[0;34m\u001b[0m\u001b[0m\n\u001b[1;32m      2\u001b[0m \u001b[0;34m\u001b[0m\u001b[0m\n\u001b[0;32m----> 3\u001b[0;31m \u001b[0mM_PPP\u001b[0m \u001b[0;34m=\u001b[0m \u001b[0ma\u001b[0m \u001b[0;34m+\u001b[0m \u001b[0mb\u001b[0m\u001b[0;34m/\u001b[0m\u001b[0mc\u001b[0m\u001b[0;34m\u001b[0m\u001b[0m\n\u001b[0m\u001b[1;32m      4\u001b[0m \u001b[0;34m\u001b[0m\u001b[0m\n\u001b[1;32m      5\u001b[0m \u001b[0mf_PLL\u001b[0m \u001b[0;34m=\u001b[0m \u001b[0mf_IN\u001b[0m \u001b[0;34m*\u001b[0m \u001b[0mM_PLL\u001b[0m\u001b[0;34m\u001b[0m\u001b[0m\n",
      "\u001b[0;31mNameError\u001b[0m: name 'a' is not defined"
     ]
    }
   ],
   "source": [
    "f_src = 25e6  # MHz\n",
    "\n",
    "M_PPP = a + b/c\n",
    "\n",
    "f_PLL = f_IN * M_PLL"
   ]
  },
  {
   "cell_type": "code",
   "execution_count": 10,
   "metadata": {},
   "outputs": [],
   "source": [
    "f_target = 28.8e6"
   ]
  },
  {
   "cell_type": "code",
   "execution_count": 38,
   "metadata": {},
   "outputs": [],
   "source": [
    "ratio = f_src / f_target"
   ]
  },
  {
   "cell_type": "code",
   "execution_count": 39,
   "metadata": {},
   "outputs": [],
   "source": [
    "M = fractions.Fraction(ratio)"
   ]
  },
  {
   "cell_type": "code",
   "execution_count": 44,
   "metadata": {},
   "outputs": [
    {
     "data": {
      "text/plain": [
       "Fraction(125, 144)"
      ]
     },
     "execution_count": 44,
     "metadata": {},
     "output_type": "execute_result"
    }
   ],
   "source": [
    "M.limit_denominator(1800)"
   ]
  },
  {
   "cell_type": "code",
   "execution_count": 42,
   "metadata": {},
   "outputs": [],
   "source": [
    "O=1/M"
   ]
  },
  {
   "cell_type": "code",
   "execution_count": 43,
   "metadata": {},
   "outputs": [
    {
     "data": {
      "text/plain": [
       "Fraction(91, 79)"
      ]
     },
     "execution_count": 43,
     "metadata": {},
     "output_type": "execute_result"
    }
   ],
   "source": [
    "O.limit_denominator(90)"
   ]
  },
  {
   "cell_type": "code",
   "execution_count": null,
   "metadata": {},
   "outputs": [],
   "source": [
    "r_est = "
   ]
  },
  {
   "cell_type": "code",
   "execution_count": null,
   "metadata": {},
   "outputs": [],
   "source": [
    "f_est = f_src * r_est"
   ]
  },
  {
   "cell_type": "code",
   "execution_count": 32,
   "metadata": {},
   "outputs": [
    {
     "data": {
      "text/plain": [
       "Fraction(91, 79)"
      ]
     },
     "execution_count": 32,
     "metadata": {},
     "output_type": "execute_result"
    }
   ],
   "source": [
    "L = M.limit_denominator(90)\n",
    "\n",
    "L"
   ]
  },
  {
   "cell_type": "code",
   "execution_count": 34,
   "metadata": {},
   "outputs": [
    {
     "data": {
      "text/plain": [
       "0.28384317862165953"
      ]
     },
     "execution_count": 34,
     "metadata": {},
     "output_type": "execute_result"
    }
   ],
   "source": [
    "L - r"
   ]
  },
  {
   "cell_type": "code",
   "execution_count": 23,
   "metadata": {},
   "outputs": [
    {
     "data": {
      "text/plain": [
       "0.8680555555555556"
      ]
     },
     "execution_count": 23,
     "metadata": {},
     "output_type": "execute_result"
    }
   ],
   "source": [
    "float(M.limit_denominator(900))"
   ]
  },
  {
   "cell_type": "code",
   "execution_count": 25,
   "metadata": {},
   "outputs": [
    {
     "data": {
      "text/plain": [
       "Fraction(125, 144)"
      ]
     },
     "execution_count": 25,
     "metadata": {},
     "output_type": "execute_result"
    }
   ],
   "source": [
    "M.limit_denominator(900)"
   ]
  },
  {
   "cell_type": "code",
   "execution_count": null,
   "metadata": {},
   "outputs": [],
   "source": []
  },
  {
   "cell_type": "code",
   "execution_count": null,
   "metadata": {},
   "outputs": [],
   "source": []
  },
  {
   "cell_type": "code",
   "execution_count": null,
   "metadata": {},
   "outputs": [],
   "source": []
  },
  {
   "cell_type": "markdown",
   "metadata": {},
   "source": [
    "---\n",
    "\n",
    "# Define clock instance"
   ]
  },
  {
   "cell_type": "code",
   "execution_count": 12,
   "metadata": {},
   "outputs": [],
   "source": [
    "import fractions\n",
    "\n",
    "import numpy as np\n",
    "\n",
    "from snail.Si5351_Clock import clock"
   ]
  },
  {
   "cell_type": "code",
   "execution_count": 2,
   "metadata": {},
   "outputs": [],
   "source": [
    "C = clock.Clock(bus=1)"
   ]
  },
  {
   "cell_type": "markdown",
   "metadata": {},
   "source": [
    "# Reset device"
   ]
  },
  {
   "cell_type": "code",
   "execution_count": 3,
   "metadata": {},
   "outputs": [],
   "source": [
    "# Specify clock state when its disabled\n",
    "C['CLK0_DIS_STATE'] = clock.constants.CLK_DIS_STATE_LOW\n",
    "C['CLK1_DIS_STATE'] = clock.constants.CLK_DIS_STATE_LOW\n",
    "C['CLK2_DIS_STATE'] = clock.constants.CLK_DIS_STATE_LOW\n",
    "C['CLK3_DIS_STATE'] = clock.constants.CLK_DIS_STATE_LOW\n",
    "C['CLK4_DIS_STATE'] = clock.constants.CLK_DIS_STATE_LOW\n",
    "C['CLK5_DIS_STATE'] = clock.constants.CLK_DIS_STATE_LOW\n",
    "C['CLK6_DIS_STATE'] = clock.constants.CLK_DIS_STATE_LOW\n",
    "C['CLK7_DIS_STATE'] = clock.constants.CLK_DIS_STATE_LOW\n",
    "\n",
    "# Disable all clocks\n",
    "C['CLK0_OEB'] = clock.constants.CLK_OEB_DISABLE\n",
    "C['CLK1_OEB'] = clock.constants.CLK_OEB_DISABLE\n",
    "C['CLK2_OEB'] = clock.constants.CLK_OEB_DISABLE\n",
    "C['CLK3_OEB'] = clock.constants.CLK_OEB_DISABLE\n",
    "C['CLK4_OEB'] = clock.constants.CLK_OEB_DISABLE\n",
    "C['CLK5_OEB'] = clock.constants.CLK_OEB_DISABLE\n",
    "C['CLK6_OEB'] = clock.constants.CLK_OEB_DISABLE\n",
    "C['CLK7_OEB'] = clock.constants.CLK_OEB_DISABLE\n",
    "\n",
    "# Power down all output drivers\n",
    "C['CLK0_PDN'] = clock.constants.CLK_PDN_OFF\n",
    "C['CLK1_PDN'] = clock.constants.CLK_PDN_OFF\n",
    "C['CLK2_PDN'] = clock.constants.CLK_PDN_OFF\n",
    "C['CLK3_PDN'] = clock.constants.CLK_PDN_OFF\n",
    "C['CLK4_PDN'] = clock.constants.CLK_PDN_OFF\n",
    "C['CLK5_PDN'] = clock.constants.CLK_PDN_OFF\n",
    "C['CLK6_PDN'] = clock.constants.CLK_PDN_OFF\n",
    "C['CLK7_PDN'] = clock.constants.CLK_PDN_OFF\n",
    "\n",
    "# Set interrupt masks to null thus allowing all asserts to go through\n",
    "C['SYS_INIT_MASK'] = 0\n",
    "C['LOL_A_MASK'] = 0\n",
    "C['LOL_B_MASK'] = 0\n",
    "C['LOS_MASK'] = 0 \n",
    "\n",
    "# Fanout options\n",
    "C['CLKIN_FANOUT_EN'] = clock.constants.FANOUT_DISABLE\n",
    "C['XO_FANOUT_EN'] =    clock.constants.FANOUT_DISABLE\n",
    "C['MS_FANOUT_EN'] =    clock.constants.FANOUT_DISABLE"
   ]
  },
  {
   "cell_type": "markdown",
   "metadata": {},
   "source": [
    "# Input Stage"
   ]
  },
  {
   "cell_type": "code",
   "execution_count": 4,
   "metadata": {},
   "outputs": [],
   "source": [
    "# Crystal's internal load capacitance\n",
    "C['XTAL_CL'] = clock.constants.XTAL_CL_10PF   # XTAL_CL_6PF or XTAL_CL_8PF or XTAL_CL_10PF (default)\n",
    "\n",
    "# Input clock frequency divider\n",
    "C['CLKIN_DIV'] = clock.constants.CLKIN_DIV_1  # CLKIN_DIV_1, CLKIN_DIV_2, CLKIN_DIV_4 or CLKIN_DIV_8"
   ]
  },
  {
   "cell_type": "markdown",
   "metadata": {},
   "source": [
    " # Synthesis Stage 1 (PLL A and B)"
   ]
  },
  {
   "cell_type": "code",
   "execution_count": 5,
   "metadata": {},
   "outputs": [
    {
     "ename": "SyntaxError",
     "evalue": "invalid syntax (<ipython-input-5-bdb56bb032fe>, line 15)",
     "output_type": "error",
     "traceback": [
      "\u001b[0;36m  File \u001b[0;32m\"<ipython-input-5-bdb56bb032fe>\"\u001b[0;36m, line \u001b[0;32m15\u001b[0m\n\u001b[0;31m    - MSNx_P1:\u001b[0m\n\u001b[0m               ^\u001b[0m\n\u001b[0;31mSyntaxError\u001b[0m\u001b[0;31m:\u001b[0m invalid syntax\n"
     ]
    }
   ],
   "source": [
    "# PLL source: PLL_SRC_XTAL (Si5351 A/B/C) or PLL_SRC_CLKIN (Si5351C only)\n",
    "C['PLLA_SRC'] = clock.constants.PLL_SRC_DEF  # *PLL_SRC_XTAL* or PLL_SRC_CLKIN\n",
    "C['PLLB_SRC'] = clock.constants.PLL_SRC_DEF  # *PLL_SRC_XTAL* or PLL_SRC_CLKIN\n",
    "\n",
    "# see AN619 section 3.2, p. 3.\n",
    "\n",
    "# idea: write a single function that determines values for MSN{A,B}_P{1,2,3} plus corresponding value for FB_INT.\n",
    "# set to particular x clock making the calculation.\n",
    "# allow for CLKIN or XTAL as source, driven by above setting for PLL{A,B}_SRC \n",
    "\n",
    "# compute a, b, and c\n",
    "# compute and store MSN_P{1,2,3}\n",
    "# test for integers, set FB{A,B}_INT\n",
    "\n",
    "- MSNx_P1: \n",
    "- MSNx_P2:\n",
    "- MSNx_P3:\n",
    "\n",
    "- FBx_INT:"
   ]
  },
  {
   "cell_type": "markdown",
   "metadata": {},
   "source": [
    "# Synthesis Stage 2 (MultiSynths 0 - 7)"
   ]
  },
  {
   "cell_type": "code",
   "execution_count": 7,
   "metadata": {},
   "outputs": [],
   "source": [
    "# Select PLL A as source for each MultiSynth\n",
    "C['MS0_SRC'] = clock.constants.MS_SRC_PLL_A\n",
    "C['MS1_SRC'] = clock.constants.MS_SRC_PLL_A\n",
    "C['MS2_SRC'] = clock.constants.MS_SRC_PLL_A\n",
    "C['MS3_SRC'] = clock.constants.MS_SRC_PLL_A\n",
    "C['MS4_SRC'] = clock.constants.MS_SRC_PLL_A\n",
    "C['MS5_SRC'] = clock.constants.MS_SRC_PLL_A\n",
    "C['MS6_SRC'] = clock.constants.MS_SRC_PLL_A\n",
    "C['MS7_SRC'] = clock.constants.MS_SRC_PLL_A\n",
    "\n",
    "# Disable divide-by-4\n",
    "C['MS0_DIVBY4'] = clock.constants.MS_DIVBY4_DISABLE\n",
    "C['MS1_DIVBY4'] = clock.constants.MS_DIVBY4_DISABLE\n",
    "C['MS2_DIVBY4'] = clock.constants.MS_DIVBY4_DISABLE\n",
    "C['MS3_DIVBY4'] = clock.constants.MS_DIVBY4_DISABLE\n",
    "C['MS4_DIVBY4'] = clock.constants.MS_DIVBY4_DISABLE\n",
    "C['MS5_DIVBY4'] = clock.constants.MS_DIVBY4_DISABLE\n",
    "# C['MS6_DIVBY4'] = clock.constants.MS_DIVBY4_DISABLE   # does not exist\n",
    "# C['MS7_DIVBY4'] = clock.constants.MS_DIVBY4_DISABLE   # does not exist\n",
    "\n",
    "\n",
    "# Set various MS P1, P2, P3 values\n",
    "\n",
    "# INT"
   ]
  },
  {
   "cell_type": "markdown",
   "metadata": {},
   "source": [
    "# Output Stage (Clocks 1 - 7)"
   ]
  },
  {
   "cell_type": "code",
   "execution_count": 10,
   "metadata": {},
   "outputs": [],
   "source": [
    "# CLK source: match output CLK with corresponding Stage-2 MultiSynth.  More complicated options are available.\n",
    "C['CLK0_SRC'] = clock.constants.CLK_SRC_MS\n",
    "C['CLK1_SRC'] = clock.constants.CLK_SRC_MS\n",
    "C['CLK2_SRC'] = clock.constants.CLK_SRC_MS\n",
    "C['CLK3_SRC'] = clock.constants.CLK_SRC_MS\n",
    "C['CLK4_SRC'] = clock.constants.CLK_SRC_MS\n",
    "C['CLK5_SRC'] = clock.constants.CLK_SRC_MS\n",
    "C['CLK6_SRC'] = clock.constants.CLK_SRC_MS\n",
    "C['CLK7_SRC'] = clock.constants.CLK_SRC_MS\n",
    "\n",
    "C['CLK0_INV'] = clock.constants.CLK_INV_FALSE\n",
    "C['CLK1_INV'] = clock.constants.CLK_INV_FALSE\n",
    "C['CLK2_INV'] = clock.constants.CLK_INV_FALSE\n",
    "C['CLK3_INV'] = clock.constants.CLK_INV_FALSE\n",
    "C['CLK4_INV'] = clock.constants.CLK_INV_FALSE\n",
    "C['CLK5_INV'] = clock.constants.CLK_INV_FALSE\n",
    "C['CLK6_INV'] = clock.constants.CLK_INV_FALSE\n",
    "C['CLK7_INV'] = clock.constants.CLK_INV_FALSE\n",
    "\n",
    "# Clock drive current (what's the best setting here?)\n",
    "C['CLK0_IDRV'] = clock.constants.CLK_IDRV_8\n",
    "C['CLK1_IDRV'] = clock.constants.CLK_IDRV_8\n",
    "C['CLK2_IDRV'] = clock.constants.CLK_IDRV_8\n",
    "C['CLK3_IDRV'] = clock.constants.CLK_IDRV_8\n",
    "C['CLK4_IDRV'] = clock.constants.CLK_IDRV_8\n",
    "C['CLK5_IDRV'] = clock.constants.CLK_IDRV_8\n",
    "C['CLK6_IDRV'] = clock.constants.CLK_IDRV_8\n",
    "C['CLK7_IDRV'] = clock.constants.CLK_IDRV_8\n",
    "\n",
    "# Initial phase values\n",
    "C['CLK0_PHOFF'] = clock.constants.CLK_PHOFF_ZERO\n",
    "C['CLK1_PHOFF'] = clock.constants.CLK_PHOFF_ZERO\n",
    "C['CLK2_PHOFF'] = clock.constants.CLK_PHOFF_ZERO\n",
    "C['CLK3_PHOFF'] = clock.constants.CLK_PHOFF_ZERO\n",
    "C['CLK4_PHOFF'] = clock.constants.CLK_PHOFF_ZERO\n",
    "C['CLK5_PHOFF'] = clock.constants.CLK_PHOFF_ZERO\n",
    "# C['CLK6_PHOFF'] = clock.constants.CLK_PHOFF_ZERO  # does not exist\n",
    "# C['CLK7_PHOFF'] = clock.constants.CLK_PHOFF_ZERO  # does not exist\n",
    "\n",
    "\n",
    "# Clock final divide (unity)\n",
    "C['R0_DIV'] = clock.constants.R_DIV_1\n",
    "C['R1_DIV'] = clock.constants.R_DIV_1\n",
    "C['R2_DIV'] = clock.constants.R_DIV_1\n",
    "C['R3_DIV'] = clock.constants.R_DIV_1\n",
    "C['R4_DIV'] = clock.constants.R_DIV_1\n",
    "C['R5_DIV'] = clock.constants.R_DIV_1\n",
    "C['R6_DIV'] = clock.constants.R_DIV_1\n",
    "C['R7_DIV'] = clock.constants.R_DIV_1"
   ]
  },
  {
   "cell_type": "code",
   "execution_count": null,
   "metadata": {},
   "outputs": [],
   "source": []
  }
 ],
 "metadata": {
  "kernelspec": {
   "display_name": "Python 3",
   "language": "python",
   "name": "python3"
  },
  "language_info": {
   "codemirror_mode": {
    "name": "ipython",
    "version": 3
   },
   "file_extension": ".py",
   "mimetype": "text/x-python",
   "name": "python",
   "nbconvert_exporter": "python",
   "pygments_lexer": "ipython3",
   "version": "3.6.4"
  }
 },
 "nbformat": 4,
 "nbformat_minor": 2
}
