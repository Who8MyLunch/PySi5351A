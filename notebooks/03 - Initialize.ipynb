{
 "cells": [
  {
   "cell_type": "code",
   "execution_count": 1,
   "metadata": {},
   "outputs": [],
   "source": [
    "import fractions\n",
    "\n",
    "import numpy as np\n",
    "\n",
    "from snail.Si5351_Clock import clock"
   ]
  },
  {
   "cell_type": "code",
   "execution_count": 3,
   "metadata": {},
   "outputs": [],
   "source": [
    "# Define clock off state at registers 24 and 25\n",
    "\n",
    "# Disable outputs\n",
    "# Set ; register 3 = 0xff\n",
    "\n",
    "# Power down all output drivers\n",
    "# registers 16-22 = 0x80\n",
    "\n",
    "# Set interrupt masks with register 2\n",
    "\n",
    "# Write clock parameters\n",
    "\n",
    "# Apply PLLA and PLLB soft reset\n",
    "# Reg 177 = 0xAC\n",
    "\n",
    "# Enable desired output at register 3\n",
    "\n"
   ]
  },
  {
   "cell_type": "code",
   "execution_count": 2,
   "metadata": {},
   "outputs": [
    {
     "data": {
      "text/plain": [
       "3"
      ]
     },
     "execution_count": 2,
     "metadata": {},
     "output_type": "execute_result"
    }
   ],
   "source": [
    "clock.constants.CLK_IDRV_8"
   ]
  },
  {
   "cell_type": "code",
   "execution_count": 4,
   "metadata": {},
   "outputs": [],
   "source": [
    "bus = 1\n",
    "C = clock.Clock(bus)"
   ]
  },
  {
   "cell_type": "code",
   "execution_count": 5,
   "metadata": {
    "scrolled": true
   },
   "outputs": [
    {
     "name": "stdout",
     "output_type": "stream",
     "text": [
      "CLK0_DIS_STATE 0\n",
      "CLK0_IDRV 0\n",
      "CLK0_INV 0\n",
      "CLK0_OEB 0\n",
      "CLK0_PDN 0\n",
      "CLK0_PHOFF 0\n",
      "CLK0_SRC 0\n",
      "CLK1_DIS_STATE 0\n",
      "CLK1_IDRV 0\n",
      "CLK1_INV 0\n",
      "CLK1_OEB 0\n",
      "CLK1_PDN 0\n",
      "CLK1_PHOFF 0\n",
      "CLK1_SRC 0\n",
      "CLK2_DIS_STATE 0\n",
      "CLK2_IDRV 0\n",
      "CLK2_INV 0\n",
      "CLK2_OEB 0\n",
      "CLK2_PDN 0\n",
      "CLK2_PHOFF 0\n",
      "CLK2_SRC 0\n",
      "CLK3_DIS_STATE 0\n",
      "CLK3_IDRV 0\n",
      "CLK3_INV 0\n",
      "CLK3_OEB 0\n",
      "CLK3_PDN 1\n",
      "CLK3_PHOFF 0\n",
      "CLK3_SRC 0\n",
      "CLK4_DIS_STATE 0\n",
      "CLK4_IDRV 0\n",
      "CLK4_INV 0\n",
      "CLK4_OEB 0\n",
      "CLK4_PDN 1\n",
      "CLK4_PHOFF 0\n",
      "CLK4_SRC 0\n",
      "CLK5_DIS_STATE 0\n",
      "CLK5_IDRV 0\n",
      "CLK5_INV 0\n",
      "CLK5_OEB 0\n",
      "CLK5_PDN 1\n",
      "CLK5_PHOFF 0\n",
      "CLK5_SRC 0\n",
      "CLK6_DIS_STATE 0\n",
      "CLK6_IDRV 0\n",
      "CLK6_INV 0\n",
      "CLK6_OEB 0\n",
      "CLK6_PDN 1\n",
      "CLK6_SRC 0\n",
      "CLK7_DIS_STATE 0\n",
      "CLK7_IDRV 0\n",
      "CLK7_INV 0\n",
      "CLK7_OEB 0\n",
      "CLK7_PDN 1\n",
      "CLK7_SRC 0\n",
      "CLKIN_DIV 0\n",
      "CLKIN_FANOUT_EN 0\n",
      "FBA_INT 0\n",
      "FBB_INT 0\n",
      "LOL_A 0\n",
      "LOL_B 0\n",
      "LOS 1\n",
      "MS0_DIVBY4 0\n",
      "MS0_INT 0\n",
      "MS0_P1 0\n",
      "MS0_P2 0\n",
      "MS0_P3 0\n",
      "MS0_SRC 0\n",
      "MS1_DIVBY4 0\n",
      "MS1_INT 0\n",
      "MS1_P1 0\n",
      "MS1_P2 0\n",
      "MS1_P3 0\n",
      "MS1_SRC 0\n",
      "MS2_DIVBY4 0\n",
      "MS2_INT 0\n",
      "MS2_P1 0\n",
      "MS2_P2 0\n",
      "MS2_P3 0\n",
      "MS2_SRC 0\n",
      "MS3_INT 0\n",
      "MS3_SRC 0\n",
      "MS4_INT 0\n",
      "MS4_SRC 0\n",
      "MS5_INT 0\n",
      "MS5_SRC 0\n",
      "MS6_SRC 0\n",
      "MS7_SRC 0\n",
      "MSNA_P1 0\n",
      "MSNA_P2 0\n",
      "MSNA_P3 0\n",
      "MSNB_P1 0\n",
      "MSNB_P2 0\n",
      "MSNB_P3 0\n",
      "MS_FANOUT_EN 0\n",
      "OEB_MASK 0\n",
      "PLLA_RST 0\n",
      "PLLA_SRC 0\n",
      "PLLB_RST 0\n",
      "PLLB_SRC 0\n",
      "R0_DIV 0\n",
      "R1_DIV 0\n",
      "R2_DIV 0\n",
      "SSC_EN 0\n",
      "SYS_INIT 0\n",
      "XO_FANOUT_EN 0\n",
      "XTAL_CL 3\n"
     ]
    }
   ],
   "source": [
    "for n in C.parameter_names:\n",
    "    print(n, C[n])"
   ]
  },
  {
   "cell_type": "code",
   "execution_count": 6,
   "metadata": {},
   "outputs": [],
   "source": [
    "# Disable all clocks\n",
    "C['CLK0_OEB'] = clock.constants.CLK_OEB_DISABLE\n",
    "C['CLK1_OEB'] = clock.constants.CLK_OEB_DISABLE\n",
    "C['CLK2_OEB'] = clock.constants.CLK_OEB_DISABLE\n",
    "\n",
    "# Power down output drivers\n",
    "C['CLK0_PDN'] = clock.constants.CLK_PDN_OFF\n",
    "C['CLK1_PDN'] = clock.constants.CLK_PDN_OFF\n",
    "C['CLK2_PDN'] = clock.constants.CLK_PDN_OFF\n"
   ]
  },
  {
   "cell_type": "code",
   "execution_count": null,
   "metadata": {},
   "outputs": [],
   "source": [
    "# Configure SYS\n",
    "\n",
    "# Configure PLLs\n",
    "\n",
    "# Configure MSs\n",
    "\n",
    "# Configure CLKs"
   ]
  },
  {
   "cell_type": "code",
   "execution_count": null,
   "metadata": {},
   "outputs": [],
   "source": [
    "# Enable CLKs "
   ]
  }
 ],
 "metadata": {
  "kernelspec": {
   "display_name": "Python 3",
   "language": "python",
   "name": "python3"
  },
  "language_info": {
   "codemirror_mode": {
    "name": "ipython",
    "version": 3
   },
   "file_extension": ".py",
   "mimetype": "text/x-python",
   "name": "python",
   "nbconvert_exporter": "python",
   "pygments_lexer": "ipython3",
   "version": "3.6.4"
  }
 },
 "nbformat": 4,
 "nbformat_minor": 2
}
