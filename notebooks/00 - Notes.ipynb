{
 "cells": [
  {
   "cell_type": "markdown",
   "metadata": {},
   "source": [
    "# Notes"
   ]
  },
  {
   "cell_type": "markdown",
   "metadata": {},
   "source": [
    "### Future Devices\n",
    "- Adafruit Si5351A board\n",
    "- Dude from Sweden Si5351C board\n",
    "- R820T2\n",
    "- RTL2832U\n",
    "- Adafruit RFM69HCW Radio board\n",
    "\n",
    "### Interesting References\n",
    "\n",
    "- https://www.qrp-labs.com/synth\n",
    "- https://github.com/etherkit/Si5351Arduino\n",
    "- http://ak2b.blogspot.com/2015/06/teensy-31-vfo-with-encoder-and-si5351.html\n",
    "- Setup info: https://github.com/etherkit/Si5351Arduino\n",
    "\n",
    "### Si5151 Boards:\n",
    "- https://www.etherkit.com/rf-modules/si5351a-breakout-board.html\n",
    "- https://www.jackenhack.com/si5351c-i2c-frequency-clock-generator-breakout-board/\n",
    "\n",
    "### Example Si5351 Software Interfaces\n",
    "- https://github.com/adafruit/Adafruit_CircuitPython_SI5351\n",
    "    - Nice wrapper classes.\n"
   ]
  },
  {
   "cell_type": "markdown",
   "metadata": {},
   "source": [
    "# To Do\n",
    "\n",
    "- Basic functionality:\n",
    "    - Initialize board\n",
    "    - Shutdown board\n",
    "    - Read board status\n",
    "    - Read single clock status\n",
    "    - Initialize clock\n",
    "    - Adjust clock\n",
    "    \n",
    "    \n",
    "- consider individual class instances for each clock\n",
    "\n",
    "- investigate methods to quantify clock settings performance:\n",
    "    - frequency spectral width\n",
    "    - phase noise\n",
    "    - temperature stability\n",
    "    - ??\n",
    "\n",
    "\n"
   ]
  },
  {
   "cell_type": "markdown",
   "metadata": {},
   "source": [
    "# Configure Clocks\n",
    "\n",
    "### Input Sources\n",
    "\n",
    "- XTAL_CL: crystal's internal load capacitance:\n",
    "    - XTAL_CL_6PF or XTAL_CL_8PF or XTAL_CL_10PF (default)\n",
    "\n",
    "- CLKIN_DIV: divide input clock frequency by:\n",
    "    - CLKIN_DIV_1, CLKIN_DIV_2, CLKIN_DIV_4 or CLKIN_DIV_8\n",
    "\n",
    "### PLL Sources and Multipliers\n",
    "\n",
    "- PLLx_SRC: PLL_SRC_XTAL or PLL_SRC_CLKIN (Si5351C only)\n",
    "\n",
    "  see AN619 page 3.\n",
    "  \n",
    "- MSNx_P1: \n",
    "- MSNx_P2:\n",
    "- MSNx_P3:\n",
    "\n",
    "- FBx_INT:\n",
    "\n",
    "### MultiSynth Dividers\n",
    "\n",
    "- MSy_SRC: MS_SRC_PLL_A or MS_SRC_PLL_B\n",
    "\n",
    "- MSy_P1:\n",
    "- MSy_P2:\n",
    "- MSy_P3:\n",
    "\n",
    "- MSy_INT: MS y integer mode: True (1) or False (0)\n",
    "\n",
    "- MSy_DIVBY4: MS y divide by 4 enable (0b11) or disable (0b00) (divide by other than 4???)\n",
    "\n",
    "### Output Clocks\n",
    "\n",
    "- CLKy_PDN: clock y power on (0) or off (1)\n",
    "- CLKy_IDRV: clock y drive current set to\n",
    "    - 2 mA (0b00)\n",
    "    - 4 mA (0b01)\n",
    "    - 6 mA (0b10)\n",
    "    - 8 mA (0b11)\n",
    "- CLKy_OEB: clock output enable (0) or disable (1)\n",
    "- CLKy_DIS_STATE: clock y output value when clock is disabled\n",
    "- CLKy_SRC: clock y input source is\n",
    "    - XTAL (0b00)\n",
    "    - CLKIN (0b01)\n",
    "    - MSy (0b11)\n",
    "- Ry_DIV: Divide clock y output\n",
    "- CLKy_INV: clock signal inverted True (1) or False (0)\n",
    "- CLKy_PHOFF: clock y initial phase offset\n",
    "\n",
    "- CLKIN_FANOUT_EN\n",
    "- XO_FANOUT_EN\n",
    "- MS_FANOUT_EN"
   ]
  },
  {
   "cell_type": "markdown",
   "metadata": {},
   "source": [
    "Power on output drivers\n",
    "\n",
    "Apply PLLA and PLLB soft reset\n",
    "Reg 177 = 0xAC\n",
    "\n",
    "Enable desired output at register 3\n",
    "\n",
    "\n",
    "\n",
    "\n"
   ]
  }
 ],
 "metadata": {
  "kernelspec": {
   "display_name": "Python 3",
   "language": "python",
   "name": "python3"
  },
  "language_info": {
   "codemirror_mode": {
    "name": "ipython",
    "version": 3
   },
   "file_extension": ".py",
   "mimetype": "text/x-python",
   "name": "python",
   "nbconvert_exporter": "python",
   "pygments_lexer": "ipython3",
   "version": "3.6.4"
  }
 },
 "nbformat": 4,
 "nbformat_minor": 2
}
