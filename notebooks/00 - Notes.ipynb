{
 "cells": [
  {
   "cell_type": "markdown",
   "metadata": {},
   "source": [
    "# Notes"
   ]
  },
  {
   "cell_type": "markdown",
   "metadata": {},
   "source": [
    "### References\n",
    "\n",
    "https://www.qrp-labs.com/synth\n"
   ]
  },
  {
   "cell_type": "markdown",
   "metadata": {},
   "source": [
    "\n",
    "- procedure to write all parameters to device\n",
    "    - See Fig. 12 on main datasheet\n",
    "- consider method to configure and write values for a single clock\n",
    "\n",
    "\n",
    "- investigate methods to quantify clock settings performance:\n",
    "    - frequency spectral width\n",
    "    - phase noise\n",
    "    - temperature stability\n",
    "    - ??\n",
    "\n",
    "\n",
    "### Devices\n",
    "- Adafruit Si5351A board\n",
    "- Dude from Sweden Si5351C board\n",
    "- R820T2\n",
    "- RTL2832U\n",
    "- Adafruit RFM69HCW Radio board"
   ]
  },
  {
   "cell_type": "markdown",
   "metadata": {},
   "source": [
    "# Device Initialize\n",
    "\n",
    "- Define clock's state when a clock is disabled\n",
    "    - CLKy_DIS_STATE = CLK_DIS_STATE_DEF\n",
    "\n",
    "- Disable clocks\n",
    "    - CLKy_OEB = CLK_OEB_DISABLE\n",
    "    \n",
    "- Power down all output drivers\n",
    "    - CLKy_PDN = CLK_PDN_OFF\n",
    "\n",
    "- Set interrupt masks to allow all asserts to go through\n",
    "    - SYS_INIT_MASK = 0\n",
    "    - LOL_A_MASK = 0\n",
    "    - LOL_B_MASK = 0\n",
    "    - LOS_MASK = 0"
   ]
  },
  {
   "cell_type": "markdown",
   "metadata": {},
   "source": [
    "# Configure Clocks\n",
    "\n",
    "### Input Sources\n",
    "\n",
    "- XTAL_CL: crystal's internal load capacitance:\n",
    "    - XTAL_CL_6PF or XTAL_CL_8PF or XTAL_CL_10PF (default)\n",
    "\n",
    "- CLKIN_DIV: divide input clock frequency by:\n",
    "    - CLKIN_DIV_1, CLKIN_DIV_2, CLKIN_DIV_4 or CLKIN_DIV_8\n",
    "\n",
    "### PLL Sources and Multipliers\n",
    "\n",
    "- PLLx_SRC: PLL_SRC_XTAL or PLL_SRC_CLKIN (Si5351C only)\n",
    "\n",
    "  see AN619 page 3.\n",
    "  \n",
    "- MSNx_P1: \n",
    "- MSNx_P2:\n",
    "- MSNx_P3:\n",
    "\n",
    "- FBx_INT:\n",
    "\n",
    "### MultiSynth Dividers\n",
    "\n",
    "- MSy_SRC: MS_SRC_PLL_A or MS_SRC_PLL_B\n",
    "\n",
    "- MSy_P1:\n",
    "- MSy_P2:\n",
    "- MSy_P3:\n",
    "\n",
    "- MSy_INT: MS y integer mode: True (1) or False (0)\n",
    "\n",
    "- MSy_DIVBY4: MS y divide by 4 enable (0b11) or disable (0b00) (divide by other than 4???)\n",
    "\n",
    "### Output Clocks\n",
    "\n",
    "- CLKy_PDN: clock y power on (0) or off (1)\n",
    "- CLKy_IDRV: clock y drive current set to\n",
    "    - 2 mA (0b00)\n",
    "    - 4 mA (0b01)\n",
    "    - 6 mA (0b10)\n",
    "    - 8 mA (0b11)\n",
    "- CLKy_OEB: clock output enable (0) or disable (1)\n",
    "- CLKy_DIS_STATE: clock y output value when clock is disabled\n",
    "- CLKy_SRC: clock y input source is\n",
    "    - XTAL (0b00)\n",
    "    - CLKIN (0b01)\n",
    "    - MSy (0b11)\n",
    "- Ry_DIV: Divide clock y output\n",
    "- CLKy_INV: clock signal inverted True (1) or False (0)\n",
    "- CLKy_PHOFF: clock y initial phase offset\n",
    "\n",
    "- CLKIN_FANOUT_EN\n",
    "- XO_FANOUT_EN\n",
    "- MS_FANOUT_EN"
   ]
  },
  {
   "cell_type": "markdown",
   "metadata": {},
   "source": [
    "Power on output drivers\n",
    "\n",
    "Apply PLLA and PLLB soft reset\n",
    "Reg 177 = 0xAC\n",
    "\n",
    "Enable desired output at register 3\n",
    "\n",
    "\n",
    "\n",
    "\n"
   ]
  },
  {
   "cell_type": "code",
   "execution_count": 1,
   "metadata": {},
   "outputs": [],
   "source": [
    "import numpy as np"
   ]
  },
  {
   "cell_type": "code",
   "execution_count": 2,
   "metadata": {},
   "outputs": [
    {
     "data": {
      "text/plain": [
       "128"
      ]
     },
     "execution_count": 2,
     "metadata": {},
     "output_type": "execute_result"
    }
   ],
   "source": [
    "val = 0b000010000000\n",
    "val"
   ]
  },
  {
   "cell_type": "code",
   "execution_count": null,
   "metadata": {},
   "outputs": [],
   "source": []
  }
 ],
 "metadata": {
  "kernelspec": {
   "display_name": "Python 3",
   "language": "python",
   "name": "python3"
  },
  "language_info": {
   "codemirror_mode": {
    "name": "ipython",
    "version": 3
   },
   "file_extension": ".py",
   "mimetype": "text/x-python",
   "name": "python",
   "nbconvert_exporter": "python",
   "pygments_lexer": "ipython3",
   "version": "3.6.4"
  }
 },
 "nbformat": 4,
 "nbformat_minor": 2
}
