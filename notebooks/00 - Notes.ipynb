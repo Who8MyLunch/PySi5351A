{
 "cells": [
  {
   "cell_type": "markdown",
   "metadata": {},
   "source": [
    "# Notes"
   ]
  },
  {
   "cell_type": "markdown",
   "metadata": {},
   "source": [
    "### References\n",
    "\n",
    "https://www.qrp-labs.com/synth\n"
   ]
  },
  {
   "cell_type": "markdown",
   "metadata": {},
   "source": [
    "\n",
    "- procedure to write all parameters to device\n",
    "    - See Fig. 12 on main datasheet\n",
    "- consider method to configure and write values for a single clock\n",
    "\n",
    "\n",
    "- investigate methods to quantify clock settings performance:\n",
    "    - frequency spectral width\n",
    "    - phase noise\n",
    "    - temperature stability\n",
    "    - ??\n",
    "\n",
    "\n",
    "### Devices\n",
    "- Adafruit Si5351A board\n",
    "- Dude from Sweden Si5351C board\n",
    "- R820T2\n",
    "- RTL2832U\n",
    "- Adafruit RFM69HCW Radio board\n",
    "\n",
    "\n",
    "# Si5351\n",
    "\n",
    "- X get device status\n",
    "- initialize device\n",
    "- shutdown device\n",
    "- compute Stage 0 (Input) parameter values\n",
    "- compute Stage 1 (PLL) parameter values\n",
    "- compute Stage 2 (MS) parameter values\n",
    "- compute Stage 3 (CLK) parameter values\n",
    "\n",
    "\n"
   ]
  },
  {
   "cell_type": "markdown",
   "metadata": {},
   "source": [
    "# Settings\n",
    "\n",
    "Note: x may be either 'A' or 'B'.\n",
    "\n",
    "Note: y may be 0, 1, ..., 7.\n",
    "\n",
    "## Input Sources\n",
    "\n",
    "- XTAL_CL: crystal's internal load capacitance \n",
    "    - 01: Internal CL = 6 pF\n",
    "    - 10: Internal CL = 8 pF\n",
    "    - 11: Internal CL = 10 pF (default)\n",
    "\n",
    "- CLKIN_DIV: divide input clock frequency by\n",
    "    - 1 (0b00)\n",
    "    - 2 (0b01)\n",
    "    - 4 (0b10)\n",
    "    - 8 (0b11)\n",
    "\n",
    "## PLL Multiplers\n",
    "\n",
    "- PLLx_SRC: PLLx input signal from XTAL (0) or CLKIN (1) (Si5351C only)\n",
    "- MSNx_P1: \n",
    "- MSNx_P2\n",
    "- MSNx_P3\n",
    "- FBx_INT\n",
    "\n",
    "\n",
    "## MultiSynth Dividers\n",
    "\n",
    "- MSy_SRC: MultiSynth source select PLLA (0) or PLLB (1)\n",
    "- MSy_P1\n",
    "- MSy_P2\n",
    "- MSy_P3\n",
    "- MSy_INT: MS y integer mode: True (1) or False (0)\n",
    "- MSy_DIVBY4: MS y divide by 4 enable (0b11) or disable (0b00) (divide by other than 4???)\n",
    "\n",
    "## Output Clocks\n",
    "\n",
    "- CLKy_PDN: clock y power on (0) or off (1)\n",
    "- CLKy_IDRV: clock y drive current set to\n",
    "    - 2 mA (0b00)\n",
    "    - 4 mA (0b01)\n",
    "    - 6 mA (0b10)\n",
    "    - 8 mA (0b11)\n",
    "- CLKy_OEB: clock output enable (0) or disable (1)\n",
    "- CLKy_DIS_STATE: clock y output value when clock is disabled\n",
    "- CLKy_SRC: clock y input source is\n",
    "    - XTAL (0b00)\n",
    "    - CLKIN (0b01)\n",
    "    - MSy (0b11)\n",
    "- Ry_DIV: Divide clock y output\n",
    "- CLKy_INV: clock signal inverted True (1) or False (0)\n",
    "- CLKy_PHOFF: clock y initial phase offset\n",
    "\n",
    "- CLKIN_FANOUT_EN\n",
    "- XO_FANOUT_EN\n",
    "- MS_FANOUT_EN"
   ]
  },
  {
   "cell_type": "code",
   "execution_count": 1,
   "metadata": {},
   "outputs": [],
   "source": [
    "import numpy as np"
   ]
  },
  {
   "cell_type": "code",
   "execution_count": 2,
   "metadata": {},
   "outputs": [
    {
     "data": {
      "text/plain": [
       "128"
      ]
     },
     "execution_count": 2,
     "metadata": {},
     "output_type": "execute_result"
    }
   ],
   "source": [
    "val = 0b000010000000\n",
    "val"
   ]
  },
  {
   "cell_type": "code",
   "execution_count": null,
   "metadata": {},
   "outputs": [],
   "source": []
  }
 ],
 "metadata": {
  "kernelspec": {
   "display_name": "Python 3",
   "language": "python",
   "name": "python3"
  },
  "language_info": {
   "codemirror_mode": {
    "name": "ipython",
    "version": 3
   },
   "file_extension": ".py",
   "mimetype": "text/x-python",
   "name": "python",
   "nbconvert_exporter": "python",
   "pygments_lexer": "ipython3",
   "version": "3.6.4"
  }
 },
 "nbformat": 4,
 "nbformat_minor": 2
}
