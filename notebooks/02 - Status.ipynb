{
 "cells": [
  {
   "cell_type": "code",
   "execution_count": 2,
   "metadata": {},
   "outputs": [],
   "source": [
    "from snail.Si5351_Clock import clock"
   ]
  },
  {
   "cell_type": "code",
   "execution_count": 3,
   "metadata": {},
   "outputs": [],
   "source": [
    "bus = 1\n",
    "C = clock.Clock(bus)"
   ]
  },
  {
   "cell_type": "code",
   "execution_count": 4,
   "metadata": {},
   "outputs": [
    {
     "data": {
      "text/plain": [
       "1"
      ]
     },
     "execution_count": 4,
     "metadata": {},
     "output_type": "execute_result"
    }
   ],
   "source": [
    "clock.constants.PLL_SRC_CLKIN"
   ]
  },
  {
   "cell_type": "code",
   "execution_count": 9,
   "metadata": {},
   "outputs": [
    {
     "name": "stdout",
     "output_type": "stream",
     "text": [
      "SYS_INIT       : 0\n",
      "CLKIN_DIV      : 0\n",
      "XTAL_CL        : 3\n",
      "SSC_EN         : 0\n",
      "CLKIN_FANOUT_EN: 0\n",
      "XO_FANOUT_EN   : 0\n",
      "MS_FANOUT_EN   : 0\n"
     ]
    }
   ],
   "source": [
    "C.status_SYS()"
   ]
  },
  {
   "cell_type": "code",
   "execution_count": 17,
   "metadata": {},
   "outputs": [
    {
     "name": "stdout",
     "output_type": "stream",
     "text": [
      "LOL_A          : 0\n",
      "PLLA_SRC       : 0\n",
      "MSNA_P1        : 3584\n",
      "MSNA_P2        : 0\n",
      "MSNA_P3        : 1\n",
      "FBA_INT        : 1\n"
     ]
    }
   ],
   "source": [
    "C.status_PLL()"
   ]
  },
  {
   "cell_type": "code",
   "execution_count": 18,
   "metadata": {},
   "outputs": [
    {
     "name": "stdout",
     "output_type": "stream",
     "text": [
      "MS0_SRC        : 0\n",
      "MS0_P1         : 3584\n",
      "MS0_P2         : 0\n",
      "MS0_P3         : 1\n",
      "MS0_INT        : 1\n",
      "MS0_DIVBY4     : 0\n",
      "R0_DIV         : 0\n"
     ]
    }
   ],
   "source": [
    "C.status_MS(0)"
   ]
  },
  {
   "cell_type": "code",
   "execution_count": 19,
   "metadata": {},
   "outputs": [
    {
     "name": "stdout",
     "output_type": "stream",
     "text": [
      "CLK0_PDN       : 0\n",
      "CLK0_OEB       : 0\n",
      "CLK0_SRC       : 3\n",
      "CLK0_PHOFF     : 0\n",
      "CLK0_IDRV      : 3\n",
      "CLK0_INV       : 0\n",
      "CLK0_DIS_STATE : 0\n"
     ]
    }
   ],
   "source": [
    "C.status_CLK(0)"
   ]
  },
  {
   "cell_type": "code",
   "execution_count": null,
   "metadata": {},
   "outputs": [],
   "source": []
  },
  {
   "cell_type": "code",
   "execution_count": null,
   "metadata": {},
   "outputs": [],
   "source": []
  }
 ],
 "metadata": {
  "kernelspec": {
   "display_name": "Python 3",
   "language": "python",
   "name": "python3"
  },
  "language_info": {
   "codemirror_mode": {
    "name": "ipython",
    "version": 3
   },
   "file_extension": ".py",
   "mimetype": "text/x-python",
   "name": "python",
   "nbconvert_exporter": "python",
   "pygments_lexer": "ipython3",
   "version": "3.6.4"
  }
 },
 "nbformat": 4,
 "nbformat_minor": 2
}
