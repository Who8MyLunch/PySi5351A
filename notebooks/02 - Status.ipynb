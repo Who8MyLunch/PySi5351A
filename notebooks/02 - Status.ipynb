{
 "cells": [
  {
   "cell_type": "code",
   "execution_count": 14,
   "metadata": {},
   "outputs": [],
   "source": [
    "from snail.Si5351_Clock import Clock"
   ]
  },
  {
   "cell_type": "code",
   "execution_count": 15,
   "metadata": {},
   "outputs": [],
   "source": [
    "bus = 1\n",
    "C = Clock(bus)"
   ]
  },
  {
   "cell_type": "code",
   "execution_count": 16,
   "metadata": {},
   "outputs": [
    {
     "name": "stdout",
     "output_type": "stream",
     "text": [
      "LOL_A          : 0\n",
      "PLLA_SRC       : 0\n",
      "MSNA_P1        : 0\n",
      "MSNA_P2        : 0\n",
      "MSNA_P3        : 0\n",
      "FBA_INT        : 0\n"
     ]
    }
   ],
   "source": [
    "C.status_PLL()"
   ]
  },
  {
   "cell_type": "code",
   "execution_count": 17,
   "metadata": {},
   "outputs": [
    {
     "name": "stdout",
     "output_type": "stream",
     "text": [
      "MS1_SRC        : 0\n",
      "MS1_P1         : 0\n",
      "MS1_P2         : 0\n",
      "MS1_P3         : 0\n",
      "MS1_INT        : 0\n",
      "MS1_DIVBY4     : 0\n",
      "R1_DIV         : 0\n"
     ]
    }
   ],
   "source": [
    "C.status_MS(1)"
   ]
  },
  {
   "cell_type": "code",
   "execution_count": 18,
   "metadata": {},
   "outputs": [
    {
     "name": "stdout",
     "output_type": "stream",
     "text": [
      "CLK0_PDN       : 1\n",
      "CLK0_OEB       : 1\n",
      "CLK0_SRC       : 0\n",
      "CLK0_PHOFF     : 0\n",
      "CLK0_IDRV      : 0\n",
      "CLK0_INV       : 0\n",
      "CLK0_DIS_STATE : 0\n"
     ]
    }
   ],
   "source": [
    "C.status_CLK()"
   ]
  },
  {
   "cell_type": "code",
   "execution_count": null,
   "metadata": {},
   "outputs": [],
   "source": []
  },
  {
   "cell_type": "code",
   "execution_count": 21,
   "metadata": {},
   "outputs": [
    {
     "name": "stdout",
     "output_type": "stream",
     "text": [
      "\n",
      "SYS_INIT       : 0\n",
      "CLKIN_DIV      : 0\n",
      "XTAL_CL        : 3\n",
      "SSC_EN         : 0\n",
      "CLKIN_FANOUT_EN: 0\n",
      "XO_FANOUT_EN   : 0\n",
      "MS_FANOUT_EN   : 0\n",
      "\n",
      "LOL_A          : 0\n",
      "PLLA_SRC       : 0\n",
      "MSNA_P1        : 0\n",
      "MSNA_P2        : 0\n",
      "MSNA_P3        : 0\n",
      "FBA_INT        : 0\n",
      "\n",
      "LOL_B          : 0\n",
      "PLLB_SRC       : 0\n",
      "MSNB_P1        : 0\n",
      "MSNB_P2        : 0\n",
      "MSNB_P3        : 0\n",
      "FBB_INT        : 0\n",
      "\n",
      "\n",
      "MS0_SRC        : 0\n",
      "MS0_P1         : 0\n",
      "MS0_P2         : 0\n",
      "MS0_P3         : 0\n",
      "MS0_INT        : 0\n",
      "MS0_DIVBY4     : 0\n",
      "R0_DIV         : 0\n",
      "\n",
      "MS1_SRC        : 0\n",
      "MS1_P1         : 0\n",
      "MS1_P2         : 0\n",
      "MS1_P3         : 0\n",
      "MS1_INT        : 0\n",
      "MS1_DIVBY4     : 0\n",
      "R1_DIV         : 0\n",
      "\n",
      "MS2_SRC        : 0\n",
      "MS2_P1         : 0\n",
      "MS2_P2         : 0\n",
      "MS2_P3         : 0\n",
      "MS2_INT        : 0\n",
      "MS2_DIVBY4     : 0\n",
      "R2_DIV         : 0\n",
      "\n",
      "\n",
      "CLK0_PDN       : 1\n",
      "CLK0_OEB       : 1\n",
      "CLK0_SRC       : 0\n",
      "CLK0_PHOFF     : 0\n",
      "CLK0_IDRV      : 0\n",
      "CLK0_INV       : 0\n",
      "CLK0_DIS_STATE : 0\n",
      "\n",
      "CLK1_PDN       : 1\n",
      "CLK1_OEB       : 1\n",
      "CLK1_SRC       : 0\n",
      "CLK1_PHOFF     : 0\n",
      "CLK1_IDRV      : 0\n",
      "CLK1_INV       : 0\n",
      "CLK1_DIS_STATE : 0\n",
      "\n",
      "CLK2_PDN       : 1\n",
      "CLK2_OEB       : 1\n",
      "CLK2_SRC       : 0\n",
      "CLK2_PHOFF     : 0\n",
      "CLK2_IDRV      : 0\n",
      "CLK2_INV       : 0\n",
      "CLK2_DIS_STATE : 0\n"
     ]
    }
   ],
   "source": [
    "C.status()"
   ]
  },
  {
   "cell_type": "code",
   "execution_count": null,
   "metadata": {},
   "outputs": [],
   "source": []
  }
 ],
 "metadata": {
  "kernelspec": {
   "display_name": "Python 3",
   "language": "python",
   "name": "python3"
  },
  "language_info": {
   "codemirror_mode": {
    "name": "ipython",
    "version": 3
   },
   "file_extension": ".py",
   "mimetype": "text/x-python",
   "name": "python",
   "nbconvert_exporter": "python",
   "pygments_lexer": "ipython3",
   "version": "3.6.4"
  }
 },
 "nbformat": 4,
 "nbformat_minor": 2
}
