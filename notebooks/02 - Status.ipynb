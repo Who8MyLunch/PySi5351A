{
 "cells": [
  {
   "cell_type": "code",
   "execution_count": 1,
   "metadata": {},
   "outputs": [
    {
     "ename": "ModuleNotFoundError",
     "evalue": "No module named 'snail'",
     "output_type": "error",
     "traceback": [
      "\u001b[0;31m---------------------------------------------------------------------------\u001b[0m",
      "\u001b[0;31mModuleNotFoundError\u001b[0m                       Traceback (most recent call last)",
      "\u001b[0;32m<ipython-input-1-f177ba86c3b4>\u001b[0m in \u001b[0;36m<module>\u001b[0;34m()\u001b[0m\n\u001b[0;32m----> 1\u001b[0;31m \u001b[0;32mfrom\u001b[0m \u001b[0msnail\u001b[0m\u001b[0;34m.\u001b[0m\u001b[0mSi5351_Clock\u001b[0m \u001b[0;32mimport\u001b[0m \u001b[0mclock\u001b[0m\u001b[0;34m\u001b[0m\u001b[0m\n\u001b[0m",
      "\u001b[0;31mModuleNotFoundError\u001b[0m: No module named 'snail'"
     ]
    }
   ],
   "source": [
    "from snail.Si5351_Clock import clock"
   ]
  },
  {
   "cell_type": "code",
   "execution_count": null,
   "metadata": {},
   "outputs": [],
   "source": [
    "bus = 1\n",
    "C = clock.Clock(bus)"
   ]
  },
  {
   "cell_type": "code",
   "execution_count": 3,
   "metadata": {},
   "outputs": [
    {
     "name": "stdout",
     "output_type": "stream",
     "text": [
      "SYS_INIT       : 0\n",
      "CLKIN_DIV      : 0\n",
      "XTAL_CL        : 3\n",
      "SSC_EN         : 0\n",
      "CLKIN_FANOUT_EN: 0\n",
      "XO_FANOUT_EN   : 0\n",
      "MS_FANOUT_EN   : 0\n"
     ]
    }
   ],
   "source": [
    "C.status_SYS()"
   ]
  },
  {
   "cell_type": "code",
   "execution_count": 4,
   "metadata": {},
   "outputs": [
    {
     "name": "stdout",
     "output_type": "stream",
     "text": [
      "LOL_A          : 0\n",
      "PLLA_SRC       : 0\n",
      "MSNA_P1        : 0\n",
      "MSNA_P2        : 0\n",
      "MSNA_P3        : 0\n",
      "FBA_INT        : 0\n"
     ]
    }
   ],
   "source": [
    "C.status_PLL()"
   ]
  },
  {
   "cell_type": "code",
   "execution_count": 5,
   "metadata": {},
   "outputs": [
    {
     "name": "stdout",
     "output_type": "stream",
     "text": [
      "MS1_SRC        : 0\n",
      "MS1_P1         : 0\n",
      "MS1_P2         : 0\n",
      "MS1_P3         : 0\n",
      "MS1_INT        : 0\n",
      "MS1_DIVBY4     : 0\n",
      "R1_DIV         : 0\n"
     ]
    }
   ],
   "source": [
    "C.status_MS(1)"
   ]
  },
  {
   "cell_type": "code",
   "execution_count": 6,
   "metadata": {},
   "outputs": [
    {
     "name": "stdout",
     "output_type": "stream",
     "text": [
      "CLK0_PDN       : 0\n",
      "CLK0_OEB       : 0\n",
      "CLK0_SRC       : 0\n",
      "CLK0_PHOFF     : 0\n",
      "CLK0_IDRV      : 0\n",
      "CLK0_INV       : 0\n",
      "CLK0_DIS_STATE : 0\n"
     ]
    }
   ],
   "source": [
    "C.status_CLK()"
   ]
  },
  {
   "cell_type": "code",
   "execution_count": null,
   "metadata": {},
   "outputs": [],
   "source": []
  }
 ],
 "metadata": {
  "kernelspec": {
   "display_name": "Python 3",
   "language": "python",
   "name": "python3"
  },
  "language_info": {
   "codemirror_mode": {
    "name": "ipython",
    "version": 3
   },
   "file_extension": ".py",
   "mimetype": "text/x-python",
   "name": "python",
   "nbconvert_exporter": "python",
   "pygments_lexer": "ipython3",
   "version": "3.6.4"
  }
 },
 "nbformat": 4,
 "nbformat_minor": 2
}
